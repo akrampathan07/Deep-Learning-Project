{
  "nbformat": 4,
  "nbformat_minor": 0,
  "metadata": {
    "colab": {
      "provenance": [],
      "include_colab_link": true
    },
    "kernelspec": {
      "name": "python3",
      "display_name": "Python 3"
    },
    "language_info": {
      "name": "python"
    }
  },
  "cells": [
    {
      "cell_type": "markdown",
      "metadata": {
        "id": "view-in-github",
        "colab_type": "text"
      },
      "source": [
        "<a href=\"https://colab.research.google.com/github/akrampathan07/Deep-Learning-Project/blob/main/Airline_Delay_Prediction(ML%20Project).ipynb\" target=\"_parent\"><img src=\"https://colab.research.google.com/assets/colab-badge.svg\" alt=\"Open In Colab\"/></a>"
      ]
    },
    {
      "cell_type": "code",
      "execution_count": null,
      "metadata": {
        "id": "TWzqAJAmGB4s"
      },
      "outputs": [],
      "source": [
        "import numpy as np\n",
        "import pandas as pd\n",
        "import matplotlib.pyplot as plt\n",
        "import seaborn as sns\n",
        "import warnings\n",
        "from sklearn.linear_model import LogisticRegression\n",
        "from sklearn.metrics import (\n",
        "    balanced_accuracy_score, classification_report,\n",
        "    f1_score,  confusion_matrix,\n",
        "    roc_curve, PrecisionRecallDisplay, roc_auc_score,\n",
        "    precision_recall_curve, RocCurveDisplay\n",
        ")\n",
        "from sklearn.model_selection import (\n",
        "    cross_val_score, StratifiedKFold,\n",
        "    train_test_split\n",
        ")\n",
        "from sklearn.pipeline import make_pipeline\n",
        "from sklearn.preprocessing import MinMaxScaler, FunctionTransformer\n",
        "from sklearn.svm import LinearSVC\n",
        "from sklearn.tree import DecisionTreeClassifier"
      ]
    },
    {
      "cell_type": "code",
      "source": [
        "pd.set_option('display.max_columns', None)\n",
        "warnings.filterwarnings(\"ignore\")"
      ],
      "metadata": {
        "id": "iRvVHX8PHpTB"
      },
      "execution_count": null,
      "outputs": []
    },
    {
      "cell_type": "code",
      "source": [
        "!unzip /content/archive.zip"
      ],
      "metadata": {
        "colab": {
          "base_uri": "https://localhost:8080/"
        },
        "id": "ghJh1oFELKDk",
        "outputId": "c6b8645e-1805-4667-d694-7e78a9d16c33"
      },
      "execution_count": null,
      "outputs": [
        {
          "output_type": "stream",
          "name": "stdout",
          "text": [
            "Archive:  /content/archive.zip\n",
            "replace DelayedFlights.csv? [y]es, [n]o, [A]ll, [N]one, [r]ename: y\n",
            "  inflating: DelayedFlights.csv      \n",
            "replace st99_d00.dbf? [y]es, [n]o, [A]ll, [N]one, [r]ename: y\n",
            "  inflating: st99_d00.dbf            \n",
            "replace st99_d00.shp? [y]es, [n]o, [A]ll, [N]one, [r]ename: y\n",
            "  inflating: st99_d00.shp            \n",
            "replace st99_d00.shx? [y]es, [n]o, [A]ll, [N]one, [r]ename: y\n",
            "  inflating: st99_d00.shx            \n",
            "replace code_airport_type.csv? [y]es, [n]o, [A]ll, [N]one, [r]ename: y\n",
            "  inflating: code_airport_type.csv   \n",
            "replace dest_avg_time.csv? [y]es, [n]o, [A]ll, [N]one, [r]ename: y\n",
            "  inflating: dest_avg_time.csv       \n",
            "replace origin_avg_time.csv? [y]es, [n]o, [A]ll, [N]one, [r]ename: y\n",
            "  inflating: origin_avg_time.csv     \n",
            "replace tailnum_avg_time.csv? [y]es, [n]o, [A]ll, [N]one, [r]ename: y\n",
            "  inflating: tailnum_avg_time.csv    \n"
          ]
        }
      ]
    },
    {
      "cell_type": "code",
      "source": [
        "df = pd.read_csv(\"/content/DelayedFlights.csv\")\n",
        "\n",
        "# 1.1 Drop first column and observe dimensions\n",
        "df = df.drop([\"Unnamed: 0\"], axis=1)\n",
        "\n",
        "print('Dataframe dimensions:', df.shape)\n",
        "\n",
        "df_flights = df.copy()\n",
        "df.head()"
      ],
      "metadata": {
        "colab": {
          "base_uri": "https://localhost:8080/",
          "height": 287
        },
        "id": "k3UWvDADfmGA",
        "outputId": "3934526e-b9ac-45cb-e466-19be54c54661"
      },
      "execution_count": null,
      "outputs": [
        {
          "output_type": "stream",
          "name": "stdout",
          "text": [
            "Dataframe dimensions: (1936758, 29)\n"
          ]
        },
        {
          "output_type": "execute_result",
          "data": {
            "text/plain": [
              "   Year  Month  DayofMonth  DayOfWeek  DepTime  CRSDepTime  ArrTime  \\\n",
              "0  2008      1           3          4   2003.0        1955   2211.0   \n",
              "1  2008      1           3          4    754.0         735   1002.0   \n",
              "2  2008      1           3          4    628.0         620    804.0   \n",
              "3  2008      1           3          4   1829.0        1755   1959.0   \n",
              "4  2008      1           3          4   1940.0        1915   2121.0   \n",
              "\n",
              "   CRSArrTime UniqueCarrier  FlightNum TailNum  ActualElapsedTime  \\\n",
              "0        2225            WN        335  N712SW              128.0   \n",
              "1        1000            WN       3231  N772SW              128.0   \n",
              "2         750            WN        448  N428WN               96.0   \n",
              "3        1925            WN       3920  N464WN               90.0   \n",
              "4        2110            WN        378  N726SW              101.0   \n",
              "\n",
              "   CRSElapsedTime  AirTime  ArrDelay  DepDelay Origin Dest  Distance  TaxiIn  \\\n",
              "0           150.0    116.0     -14.0       8.0    IAD  TPA       810     4.0   \n",
              "1           145.0    113.0       2.0      19.0    IAD  TPA       810     5.0   \n",
              "2            90.0     76.0      14.0       8.0    IND  BWI       515     3.0   \n",
              "3            90.0     77.0      34.0      34.0    IND  BWI       515     3.0   \n",
              "4           115.0     87.0      11.0      25.0    IND  JAX       688     4.0   \n",
              "\n",
              "   TaxiOut  Cancelled CancellationCode  Diverted  CarrierDelay  WeatherDelay  \\\n",
              "0      8.0          0                N         0           NaN           NaN   \n",
              "1     10.0          0                N         0           NaN           NaN   \n",
              "2     17.0          0                N         0           NaN           NaN   \n",
              "3     10.0          0                N         0           2.0           0.0   \n",
              "4     10.0          0                N         0           NaN           NaN   \n",
              "\n",
              "   NASDelay  SecurityDelay  LateAircraftDelay  \n",
              "0       NaN            NaN                NaN  \n",
              "1       NaN            NaN                NaN  \n",
              "2       NaN            NaN                NaN  \n",
              "3       0.0            0.0               32.0  \n",
              "4       NaN            NaN                NaN  "
            ],
            "text/html": [
              "\n",
              "  <div id=\"df-14b342f7-29ca-4ffb-8011-4456e31cf66b\">\n",
              "    <div class=\"colab-df-container\">\n",
              "      <div>\n",
              "<style scoped>\n",
              "    .dataframe tbody tr th:only-of-type {\n",
              "        vertical-align: middle;\n",
              "    }\n",
              "\n",
              "    .dataframe tbody tr th {\n",
              "        vertical-align: top;\n",
              "    }\n",
              "\n",
              "    .dataframe thead th {\n",
              "        text-align: right;\n",
              "    }\n",
              "</style>\n",
              "<table border=\"1\" class=\"dataframe\">\n",
              "  <thead>\n",
              "    <tr style=\"text-align: right;\">\n",
              "      <th></th>\n",
              "      <th>Year</th>\n",
              "      <th>Month</th>\n",
              "      <th>DayofMonth</th>\n",
              "      <th>DayOfWeek</th>\n",
              "      <th>DepTime</th>\n",
              "      <th>CRSDepTime</th>\n",
              "      <th>ArrTime</th>\n",
              "      <th>CRSArrTime</th>\n",
              "      <th>UniqueCarrier</th>\n",
              "      <th>FlightNum</th>\n",
              "      <th>TailNum</th>\n",
              "      <th>ActualElapsedTime</th>\n",
              "      <th>CRSElapsedTime</th>\n",
              "      <th>AirTime</th>\n",
              "      <th>ArrDelay</th>\n",
              "      <th>DepDelay</th>\n",
              "      <th>Origin</th>\n",
              "      <th>Dest</th>\n",
              "      <th>Distance</th>\n",
              "      <th>TaxiIn</th>\n",
              "      <th>TaxiOut</th>\n",
              "      <th>Cancelled</th>\n",
              "      <th>CancellationCode</th>\n",
              "      <th>Diverted</th>\n",
              "      <th>CarrierDelay</th>\n",
              "      <th>WeatherDelay</th>\n",
              "      <th>NASDelay</th>\n",
              "      <th>SecurityDelay</th>\n",
              "      <th>LateAircraftDelay</th>\n",
              "    </tr>\n",
              "  </thead>\n",
              "  <tbody>\n",
              "    <tr>\n",
              "      <th>0</th>\n",
              "      <td>2008</td>\n",
              "      <td>1</td>\n",
              "      <td>3</td>\n",
              "      <td>4</td>\n",
              "      <td>2003.0</td>\n",
              "      <td>1955</td>\n",
              "      <td>2211.0</td>\n",
              "      <td>2225</td>\n",
              "      <td>WN</td>\n",
              "      <td>335</td>\n",
              "      <td>N712SW</td>\n",
              "      <td>128.0</td>\n",
              "      <td>150.0</td>\n",
              "      <td>116.0</td>\n",
              "      <td>-14.0</td>\n",
              "      <td>8.0</td>\n",
              "      <td>IAD</td>\n",
              "      <td>TPA</td>\n",
              "      <td>810</td>\n",
              "      <td>4.0</td>\n",
              "      <td>8.0</td>\n",
              "      <td>0</td>\n",
              "      <td>N</td>\n",
              "      <td>0</td>\n",
              "      <td>NaN</td>\n",
              "      <td>NaN</td>\n",
              "      <td>NaN</td>\n",
              "      <td>NaN</td>\n",
              "      <td>NaN</td>\n",
              "    </tr>\n",
              "    <tr>\n",
              "      <th>1</th>\n",
              "      <td>2008</td>\n",
              "      <td>1</td>\n",
              "      <td>3</td>\n",
              "      <td>4</td>\n",
              "      <td>754.0</td>\n",
              "      <td>735</td>\n",
              "      <td>1002.0</td>\n",
              "      <td>1000</td>\n",
              "      <td>WN</td>\n",
              "      <td>3231</td>\n",
              "      <td>N772SW</td>\n",
              "      <td>128.0</td>\n",
              "      <td>145.0</td>\n",
              "      <td>113.0</td>\n",
              "      <td>2.0</td>\n",
              "      <td>19.0</td>\n",
              "      <td>IAD</td>\n",
              "      <td>TPA</td>\n",
              "      <td>810</td>\n",
              "      <td>5.0</td>\n",
              "      <td>10.0</td>\n",
              "      <td>0</td>\n",
              "      <td>N</td>\n",
              "      <td>0</td>\n",
              "      <td>NaN</td>\n",
              "      <td>NaN</td>\n",
              "      <td>NaN</td>\n",
              "      <td>NaN</td>\n",
              "      <td>NaN</td>\n",
              "    </tr>\n",
              "    <tr>\n",
              "      <th>2</th>\n",
              "      <td>2008</td>\n",
              "      <td>1</td>\n",
              "      <td>3</td>\n",
              "      <td>4</td>\n",
              "      <td>628.0</td>\n",
              "      <td>620</td>\n",
              "      <td>804.0</td>\n",
              "      <td>750</td>\n",
              "      <td>WN</td>\n",
              "      <td>448</td>\n",
              "      <td>N428WN</td>\n",
              "      <td>96.0</td>\n",
              "      <td>90.0</td>\n",
              "      <td>76.0</td>\n",
              "      <td>14.0</td>\n",
              "      <td>8.0</td>\n",
              "      <td>IND</td>\n",
              "      <td>BWI</td>\n",
              "      <td>515</td>\n",
              "      <td>3.0</td>\n",
              "      <td>17.0</td>\n",
              "      <td>0</td>\n",
              "      <td>N</td>\n",
              "      <td>0</td>\n",
              "      <td>NaN</td>\n",
              "      <td>NaN</td>\n",
              "      <td>NaN</td>\n",
              "      <td>NaN</td>\n",
              "      <td>NaN</td>\n",
              "    </tr>\n",
              "    <tr>\n",
              "      <th>3</th>\n",
              "      <td>2008</td>\n",
              "      <td>1</td>\n",
              "      <td>3</td>\n",
              "      <td>4</td>\n",
              "      <td>1829.0</td>\n",
              "      <td>1755</td>\n",
              "      <td>1959.0</td>\n",
              "      <td>1925</td>\n",
              "      <td>WN</td>\n",
              "      <td>3920</td>\n",
              "      <td>N464WN</td>\n",
              "      <td>90.0</td>\n",
              "      <td>90.0</td>\n",
              "      <td>77.0</td>\n",
              "      <td>34.0</td>\n",
              "      <td>34.0</td>\n",
              "      <td>IND</td>\n",
              "      <td>BWI</td>\n",
              "      <td>515</td>\n",
              "      <td>3.0</td>\n",
              "      <td>10.0</td>\n",
              "      <td>0</td>\n",
              "      <td>N</td>\n",
              "      <td>0</td>\n",
              "      <td>2.0</td>\n",
              "      <td>0.0</td>\n",
              "      <td>0.0</td>\n",
              "      <td>0.0</td>\n",
              "      <td>32.0</td>\n",
              "    </tr>\n",
              "    <tr>\n",
              "      <th>4</th>\n",
              "      <td>2008</td>\n",
              "      <td>1</td>\n",
              "      <td>3</td>\n",
              "      <td>4</td>\n",
              "      <td>1940.0</td>\n",
              "      <td>1915</td>\n",
              "      <td>2121.0</td>\n",
              "      <td>2110</td>\n",
              "      <td>WN</td>\n",
              "      <td>378</td>\n",
              "      <td>N726SW</td>\n",
              "      <td>101.0</td>\n",
              "      <td>115.0</td>\n",
              "      <td>87.0</td>\n",
              "      <td>11.0</td>\n",
              "      <td>25.0</td>\n",
              "      <td>IND</td>\n",
              "      <td>JAX</td>\n",
              "      <td>688</td>\n",
              "      <td>4.0</td>\n",
              "      <td>10.0</td>\n",
              "      <td>0</td>\n",
              "      <td>N</td>\n",
              "      <td>0</td>\n",
              "      <td>NaN</td>\n",
              "      <td>NaN</td>\n",
              "      <td>NaN</td>\n",
              "      <td>NaN</td>\n",
              "      <td>NaN</td>\n",
              "    </tr>\n",
              "  </tbody>\n",
              "</table>\n",
              "</div>\n",
              "      <button class=\"colab-df-convert\" onclick=\"convertToInteractive('df-14b342f7-29ca-4ffb-8011-4456e31cf66b')\"\n",
              "              title=\"Convert this dataframe to an interactive table.\"\n",
              "              style=\"display:none;\">\n",
              "        \n",
              "  <svg xmlns=\"http://www.w3.org/2000/svg\" height=\"24px\"viewBox=\"0 0 24 24\"\n",
              "       width=\"24px\">\n",
              "    <path d=\"M0 0h24v24H0V0z\" fill=\"none\"/>\n",
              "    <path d=\"M18.56 5.44l.94 2.06.94-2.06 2.06-.94-2.06-.94-.94-2.06-.94 2.06-2.06.94zm-11 1L8.5 8.5l.94-2.06 2.06-.94-2.06-.94L8.5 2.5l-.94 2.06-2.06.94zm10 10l.94 2.06.94-2.06 2.06-.94-2.06-.94-.94-2.06-.94 2.06-2.06.94z\"/><path d=\"M17.41 7.96l-1.37-1.37c-.4-.4-.92-.59-1.43-.59-.52 0-1.04.2-1.43.59L10.3 9.45l-7.72 7.72c-.78.78-.78 2.05 0 2.83L4 21.41c.39.39.9.59 1.41.59.51 0 1.02-.2 1.41-.59l7.78-7.78 2.81-2.81c.8-.78.8-2.07 0-2.86zM5.41 20L4 18.59l7.72-7.72 1.47 1.35L5.41 20z\"/>\n",
              "  </svg>\n",
              "      </button>\n",
              "      \n",
              "  <style>\n",
              "    .colab-df-container {\n",
              "      display:flex;\n",
              "      flex-wrap:wrap;\n",
              "      gap: 12px;\n",
              "    }\n",
              "\n",
              "    .colab-df-convert {\n",
              "      background-color: #E8F0FE;\n",
              "      border: none;\n",
              "      border-radius: 50%;\n",
              "      cursor: pointer;\n",
              "      display: none;\n",
              "      fill: #1967D2;\n",
              "      height: 32px;\n",
              "      padding: 0 0 0 0;\n",
              "      width: 32px;\n",
              "    }\n",
              "\n",
              "    .colab-df-convert:hover {\n",
              "      background-color: #E2EBFA;\n",
              "      box-shadow: 0px 1px 2px rgba(60, 64, 67, 0.3), 0px 1px 3px 1px rgba(60, 64, 67, 0.15);\n",
              "      fill: #174EA6;\n",
              "    }\n",
              "\n",
              "    [theme=dark] .colab-df-convert {\n",
              "      background-color: #3B4455;\n",
              "      fill: #D2E3FC;\n",
              "    }\n",
              "\n",
              "    [theme=dark] .colab-df-convert:hover {\n",
              "      background-color: #434B5C;\n",
              "      box-shadow: 0px 1px 3px 1px rgba(0, 0, 0, 0.15);\n",
              "      filter: drop-shadow(0px 1px 2px rgba(0, 0, 0, 0.3));\n",
              "      fill: #FFFFFF;\n",
              "    }\n",
              "  </style>\n",
              "\n",
              "      <script>\n",
              "        const buttonEl =\n",
              "          document.querySelector('#df-14b342f7-29ca-4ffb-8011-4456e31cf66b button.colab-df-convert');\n",
              "        buttonEl.style.display =\n",
              "          google.colab.kernel.accessAllowed ? 'block' : 'none';\n",
              "\n",
              "        async function convertToInteractive(key) {\n",
              "          const element = document.querySelector('#df-14b342f7-29ca-4ffb-8011-4456e31cf66b');\n",
              "          const dataTable =\n",
              "            await google.colab.kernel.invokeFunction('convertToInteractive',\n",
              "                                                     [key], {});\n",
              "          if (!dataTable) return;\n",
              "\n",
              "          const docLinkHtml = 'Like what you see? Visit the ' +\n",
              "            '<a target=\"_blank\" href=https://colab.research.google.com/notebooks/data_table.ipynb>data table notebook</a>'\n",
              "            + ' to learn more about interactive tables.';\n",
              "          element.innerHTML = '';\n",
              "          dataTable['output_type'] = 'display_data';\n",
              "          await google.colab.output.renderOutput(dataTable, element);\n",
              "          const docLink = document.createElement('div');\n",
              "          docLink.innerHTML = docLinkHtml;\n",
              "          element.appendChild(docLink);\n",
              "        }\n",
              "      </script>\n",
              "    </div>\n",
              "  </div>\n",
              "  "
            ]
          },
          "metadata": {},
          "execution_count": 4
        }
      ]
    },
    {
      "cell_type": "code",
      "source": [
        "tab_info = pd.DataFrame(df.dtypes).T.rename(index={0:'column type'})\n",
        "\n",
        "tab_info = tab_info.append(pd.DataFrame(df.isnull().sum()).T.rename(index={0:'null value (count)'}))\n",
        "tab_info = tab_info.append(pd.DataFrame(df.isnull().sum()/df.shape[0]).T.rename(index={0:'null values (%)'}))\n",
        "tab_info = tab_info.append(pd.DataFrame(df.describe().astype(int)))\n",
        "\n",
        "tab_info = tab_info.T\n",
        "\n",
        "tab_info"
      ],
      "metadata": {
        "colab": {
          "base_uri": "https://localhost:8080/",
          "height": 1000
        },
        "id": "BIkGaPcfNmVK",
        "outputId": "f7d54413-17ea-476c-9b7c-02a65595d10b"
      },
      "execution_count": null,
      "outputs": [
        {
          "output_type": "execute_result",
          "data": {
            "text/plain": [
              "                  column type null value (count) null values (%)    count  \\\n",
              "Year                    int64                  0             0.0  1936758   \n",
              "Month                   int64                  0             0.0  1936758   \n",
              "DayofMonth              int64                  0             0.0  1936758   \n",
              "DayOfWeek               int64                  0             0.0  1936758   \n",
              "DepTime               float64                  0             0.0  1936758   \n",
              "CRSDepTime              int64                  0             0.0  1936758   \n",
              "ArrTime               float64               7110        0.003671  1929648   \n",
              "CRSArrTime              int64                  0             0.0  1936758   \n",
              "UniqueCarrier          object                  0             0.0      NaN   \n",
              "FlightNum               int64                  0             0.0  1936758   \n",
              "TailNum                object                  5        0.000003      NaN   \n",
              "ActualElapsedTime     float64               8387         0.00433  1928371   \n",
              "CRSElapsedTime        float64                198        0.000102  1936560   \n",
              "AirTime               float64               8387         0.00433  1928371   \n",
              "ArrDelay              float64               8387         0.00433  1928371   \n",
              "DepDelay              float64                  0             0.0  1936758   \n",
              "Origin                 object                  0             0.0      NaN   \n",
              "Dest                   object                  0             0.0      NaN   \n",
              "Distance                int64                  0             0.0  1936758   \n",
              "TaxiIn                float64               7110        0.003671  1929648   \n",
              "TaxiOut               float64                455        0.000235  1936303   \n",
              "Cancelled               int64                  0             0.0  1936758   \n",
              "CancellationCode       object                  0             0.0      NaN   \n",
              "Diverted                int64                  0             0.0  1936758   \n",
              "CarrierDelay          float64             689270        0.355889  1247488   \n",
              "WeatherDelay          float64             689270        0.355889  1247488   \n",
              "NASDelay              float64             689270        0.355889  1247488   \n",
              "SecurityDelay         float64             689270        0.355889  1247488   \n",
              "LateAircraftDelay     float64             689270        0.355889  1247488   \n",
              "\n",
              "                   mean   std   min   25%   50%   75%   max  \n",
              "Year               2008     0  2008  2008  2008  2008  2008  \n",
              "Month                 6     3     1     3     6     9    12  \n",
              "DayofMonth           15     8     1     8    16    23    31  \n",
              "DayOfWeek             3     1     1     2     4     6     7  \n",
              "DepTime            1518   450     1  1203  1545  1900  2400  \n",
              "CRSDepTime         1467   424     0  1135  1510  1815  2359  \n",
              "ArrTime            1610   548     1  1316  1715  2030  2400  \n",
              "CRSArrTime         1634   464     0  1325  1705  2014  2400  \n",
              "UniqueCarrier       NaN   NaN   NaN   NaN   NaN   NaN   NaN  \n",
              "FlightNum          2184  1944     1   610  1543  3422  9742  \n",
              "TailNum             NaN   NaN   NaN   NaN   NaN   NaN   NaN  \n",
              "ActualElapsedTime   133    72    14    80   116   165  1114  \n",
              "CRSElapsedTime      134    71   -25    82   116   165   660  \n",
              "AirTime             108    68     0    58    90   137  1091  \n",
              "ArrDelay             42    56  -109     9    24    56  2461  \n",
              "DepDelay             43    53     6    12    24    53  2467  \n",
              "Origin              NaN   NaN   NaN   NaN   NaN   NaN   NaN  \n",
              "Dest                NaN   NaN   NaN   NaN   NaN   NaN   NaN  \n",
              "Distance            765   574    11   338   606   998  4962  \n",
              "TaxiIn                6     5     0     4     6     8   240  \n",
              "TaxiOut              18    14     0    10    14    21   422  \n",
              "Cancelled             0     0     0     0     0     0     1  \n",
              "CancellationCode    NaN   NaN   NaN   NaN   NaN   NaN   NaN  \n",
              "Diverted              0     0     0     0     0     0     1  \n",
              "CarrierDelay         19    43     0     0     2    21  2436  \n",
              "WeatherDelay          3    21     0     0     0     0  1352  \n",
              "NASDelay             15    33     0     0     2    15  1357  \n",
              "SecurityDelay         0     2     0     0     0     0   392  \n",
              "LateAircraftDelay    25    42     0     0     8    33  1316  "
            ],
            "text/html": [
              "\n",
              "  <div id=\"df-cc40edc9-66f9-4b54-abb0-5da645f3b65c\">\n",
              "    <div class=\"colab-df-container\">\n",
              "      <div>\n",
              "<style scoped>\n",
              "    .dataframe tbody tr th:only-of-type {\n",
              "        vertical-align: middle;\n",
              "    }\n",
              "\n",
              "    .dataframe tbody tr th {\n",
              "        vertical-align: top;\n",
              "    }\n",
              "\n",
              "    .dataframe thead th {\n",
              "        text-align: right;\n",
              "    }\n",
              "</style>\n",
              "<table border=\"1\" class=\"dataframe\">\n",
              "  <thead>\n",
              "    <tr style=\"text-align: right;\">\n",
              "      <th></th>\n",
              "      <th>column type</th>\n",
              "      <th>null value (count)</th>\n",
              "      <th>null values (%)</th>\n",
              "      <th>count</th>\n",
              "      <th>mean</th>\n",
              "      <th>std</th>\n",
              "      <th>min</th>\n",
              "      <th>25%</th>\n",
              "      <th>50%</th>\n",
              "      <th>75%</th>\n",
              "      <th>max</th>\n",
              "    </tr>\n",
              "  </thead>\n",
              "  <tbody>\n",
              "    <tr>\n",
              "      <th>Year</th>\n",
              "      <td>int64</td>\n",
              "      <td>0</td>\n",
              "      <td>0.0</td>\n",
              "      <td>1936758</td>\n",
              "      <td>2008</td>\n",
              "      <td>0</td>\n",
              "      <td>2008</td>\n",
              "      <td>2008</td>\n",
              "      <td>2008</td>\n",
              "      <td>2008</td>\n",
              "      <td>2008</td>\n",
              "    </tr>\n",
              "    <tr>\n",
              "      <th>Month</th>\n",
              "      <td>int64</td>\n",
              "      <td>0</td>\n",
              "      <td>0.0</td>\n",
              "      <td>1936758</td>\n",
              "      <td>6</td>\n",
              "      <td>3</td>\n",
              "      <td>1</td>\n",
              "      <td>3</td>\n",
              "      <td>6</td>\n",
              "      <td>9</td>\n",
              "      <td>12</td>\n",
              "    </tr>\n",
              "    <tr>\n",
              "      <th>DayofMonth</th>\n",
              "      <td>int64</td>\n",
              "      <td>0</td>\n",
              "      <td>0.0</td>\n",
              "      <td>1936758</td>\n",
              "      <td>15</td>\n",
              "      <td>8</td>\n",
              "      <td>1</td>\n",
              "      <td>8</td>\n",
              "      <td>16</td>\n",
              "      <td>23</td>\n",
              "      <td>31</td>\n",
              "    </tr>\n",
              "    <tr>\n",
              "      <th>DayOfWeek</th>\n",
              "      <td>int64</td>\n",
              "      <td>0</td>\n",
              "      <td>0.0</td>\n",
              "      <td>1936758</td>\n",
              "      <td>3</td>\n",
              "      <td>1</td>\n",
              "      <td>1</td>\n",
              "      <td>2</td>\n",
              "      <td>4</td>\n",
              "      <td>6</td>\n",
              "      <td>7</td>\n",
              "    </tr>\n",
              "    <tr>\n",
              "      <th>DepTime</th>\n",
              "      <td>float64</td>\n",
              "      <td>0</td>\n",
              "      <td>0.0</td>\n",
              "      <td>1936758</td>\n",
              "      <td>1518</td>\n",
              "      <td>450</td>\n",
              "      <td>1</td>\n",
              "      <td>1203</td>\n",
              "      <td>1545</td>\n",
              "      <td>1900</td>\n",
              "      <td>2400</td>\n",
              "    </tr>\n",
              "    <tr>\n",
              "      <th>CRSDepTime</th>\n",
              "      <td>int64</td>\n",
              "      <td>0</td>\n",
              "      <td>0.0</td>\n",
              "      <td>1936758</td>\n",
              "      <td>1467</td>\n",
              "      <td>424</td>\n",
              "      <td>0</td>\n",
              "      <td>1135</td>\n",
              "      <td>1510</td>\n",
              "      <td>1815</td>\n",
              "      <td>2359</td>\n",
              "    </tr>\n",
              "    <tr>\n",
              "      <th>ArrTime</th>\n",
              "      <td>float64</td>\n",
              "      <td>7110</td>\n",
              "      <td>0.003671</td>\n",
              "      <td>1929648</td>\n",
              "      <td>1610</td>\n",
              "      <td>548</td>\n",
              "      <td>1</td>\n",
              "      <td>1316</td>\n",
              "      <td>1715</td>\n",
              "      <td>2030</td>\n",
              "      <td>2400</td>\n",
              "    </tr>\n",
              "    <tr>\n",
              "      <th>CRSArrTime</th>\n",
              "      <td>int64</td>\n",
              "      <td>0</td>\n",
              "      <td>0.0</td>\n",
              "      <td>1936758</td>\n",
              "      <td>1634</td>\n",
              "      <td>464</td>\n",
              "      <td>0</td>\n",
              "      <td>1325</td>\n",
              "      <td>1705</td>\n",
              "      <td>2014</td>\n",
              "      <td>2400</td>\n",
              "    </tr>\n",
              "    <tr>\n",
              "      <th>UniqueCarrier</th>\n",
              "      <td>object</td>\n",
              "      <td>0</td>\n",
              "      <td>0.0</td>\n",
              "      <td>NaN</td>\n",
              "      <td>NaN</td>\n",
              "      <td>NaN</td>\n",
              "      <td>NaN</td>\n",
              "      <td>NaN</td>\n",
              "      <td>NaN</td>\n",
              "      <td>NaN</td>\n",
              "      <td>NaN</td>\n",
              "    </tr>\n",
              "    <tr>\n",
              "      <th>FlightNum</th>\n",
              "      <td>int64</td>\n",
              "      <td>0</td>\n",
              "      <td>0.0</td>\n",
              "      <td>1936758</td>\n",
              "      <td>2184</td>\n",
              "      <td>1944</td>\n",
              "      <td>1</td>\n",
              "      <td>610</td>\n",
              "      <td>1543</td>\n",
              "      <td>3422</td>\n",
              "      <td>9742</td>\n",
              "    </tr>\n",
              "    <tr>\n",
              "      <th>TailNum</th>\n",
              "      <td>object</td>\n",
              "      <td>5</td>\n",
              "      <td>0.000003</td>\n",
              "      <td>NaN</td>\n",
              "      <td>NaN</td>\n",
              "      <td>NaN</td>\n",
              "      <td>NaN</td>\n",
              "      <td>NaN</td>\n",
              "      <td>NaN</td>\n",
              "      <td>NaN</td>\n",
              "      <td>NaN</td>\n",
              "    </tr>\n",
              "    <tr>\n",
              "      <th>ActualElapsedTime</th>\n",
              "      <td>float64</td>\n",
              "      <td>8387</td>\n",
              "      <td>0.00433</td>\n",
              "      <td>1928371</td>\n",
              "      <td>133</td>\n",
              "      <td>72</td>\n",
              "      <td>14</td>\n",
              "      <td>80</td>\n",
              "      <td>116</td>\n",
              "      <td>165</td>\n",
              "      <td>1114</td>\n",
              "    </tr>\n",
              "    <tr>\n",
              "      <th>CRSElapsedTime</th>\n",
              "      <td>float64</td>\n",
              "      <td>198</td>\n",
              "      <td>0.000102</td>\n",
              "      <td>1936560</td>\n",
              "      <td>134</td>\n",
              "      <td>71</td>\n",
              "      <td>-25</td>\n",
              "      <td>82</td>\n",
              "      <td>116</td>\n",
              "      <td>165</td>\n",
              "      <td>660</td>\n",
              "    </tr>\n",
              "    <tr>\n",
              "      <th>AirTime</th>\n",
              "      <td>float64</td>\n",
              "      <td>8387</td>\n",
              "      <td>0.00433</td>\n",
              "      <td>1928371</td>\n",
              "      <td>108</td>\n",
              "      <td>68</td>\n",
              "      <td>0</td>\n",
              "      <td>58</td>\n",
              "      <td>90</td>\n",
              "      <td>137</td>\n",
              "      <td>1091</td>\n",
              "    </tr>\n",
              "    <tr>\n",
              "      <th>ArrDelay</th>\n",
              "      <td>float64</td>\n",
              "      <td>8387</td>\n",
              "      <td>0.00433</td>\n",
              "      <td>1928371</td>\n",
              "      <td>42</td>\n",
              "      <td>56</td>\n",
              "      <td>-109</td>\n",
              "      <td>9</td>\n",
              "      <td>24</td>\n",
              "      <td>56</td>\n",
              "      <td>2461</td>\n",
              "    </tr>\n",
              "    <tr>\n",
              "      <th>DepDelay</th>\n",
              "      <td>float64</td>\n",
              "      <td>0</td>\n",
              "      <td>0.0</td>\n",
              "      <td>1936758</td>\n",
              "      <td>43</td>\n",
              "      <td>53</td>\n",
              "      <td>6</td>\n",
              "      <td>12</td>\n",
              "      <td>24</td>\n",
              "      <td>53</td>\n",
              "      <td>2467</td>\n",
              "    </tr>\n",
              "    <tr>\n",
              "      <th>Origin</th>\n",
              "      <td>object</td>\n",
              "      <td>0</td>\n",
              "      <td>0.0</td>\n",
              "      <td>NaN</td>\n",
              "      <td>NaN</td>\n",
              "      <td>NaN</td>\n",
              "      <td>NaN</td>\n",
              "      <td>NaN</td>\n",
              "      <td>NaN</td>\n",
              "      <td>NaN</td>\n",
              "      <td>NaN</td>\n",
              "    </tr>\n",
              "    <tr>\n",
              "      <th>Dest</th>\n",
              "      <td>object</td>\n",
              "      <td>0</td>\n",
              "      <td>0.0</td>\n",
              "      <td>NaN</td>\n",
              "      <td>NaN</td>\n",
              "      <td>NaN</td>\n",
              "      <td>NaN</td>\n",
              "      <td>NaN</td>\n",
              "      <td>NaN</td>\n",
              "      <td>NaN</td>\n",
              "      <td>NaN</td>\n",
              "    </tr>\n",
              "    <tr>\n",
              "      <th>Distance</th>\n",
              "      <td>int64</td>\n",
              "      <td>0</td>\n",
              "      <td>0.0</td>\n",
              "      <td>1936758</td>\n",
              "      <td>765</td>\n",
              "      <td>574</td>\n",
              "      <td>11</td>\n",
              "      <td>338</td>\n",
              "      <td>606</td>\n",
              "      <td>998</td>\n",
              "      <td>4962</td>\n",
              "    </tr>\n",
              "    <tr>\n",
              "      <th>TaxiIn</th>\n",
              "      <td>float64</td>\n",
              "      <td>7110</td>\n",
              "      <td>0.003671</td>\n",
              "      <td>1929648</td>\n",
              "      <td>6</td>\n",
              "      <td>5</td>\n",
              "      <td>0</td>\n",
              "      <td>4</td>\n",
              "      <td>6</td>\n",
              "      <td>8</td>\n",
              "      <td>240</td>\n",
              "    </tr>\n",
              "    <tr>\n",
              "      <th>TaxiOut</th>\n",
              "      <td>float64</td>\n",
              "      <td>455</td>\n",
              "      <td>0.000235</td>\n",
              "      <td>1936303</td>\n",
              "      <td>18</td>\n",
              "      <td>14</td>\n",
              "      <td>0</td>\n",
              "      <td>10</td>\n",
              "      <td>14</td>\n",
              "      <td>21</td>\n",
              "      <td>422</td>\n",
              "    </tr>\n",
              "    <tr>\n",
              "      <th>Cancelled</th>\n",
              "      <td>int64</td>\n",
              "      <td>0</td>\n",
              "      <td>0.0</td>\n",
              "      <td>1936758</td>\n",
              "      <td>0</td>\n",
              "      <td>0</td>\n",
              "      <td>0</td>\n",
              "      <td>0</td>\n",
              "      <td>0</td>\n",
              "      <td>0</td>\n",
              "      <td>1</td>\n",
              "    </tr>\n",
              "    <tr>\n",
              "      <th>CancellationCode</th>\n",
              "      <td>object</td>\n",
              "      <td>0</td>\n",
              "      <td>0.0</td>\n",
              "      <td>NaN</td>\n",
              "      <td>NaN</td>\n",
              "      <td>NaN</td>\n",
              "      <td>NaN</td>\n",
              "      <td>NaN</td>\n",
              "      <td>NaN</td>\n",
              "      <td>NaN</td>\n",
              "      <td>NaN</td>\n",
              "    </tr>\n",
              "    <tr>\n",
              "      <th>Diverted</th>\n",
              "      <td>int64</td>\n",
              "      <td>0</td>\n",
              "      <td>0.0</td>\n",
              "      <td>1936758</td>\n",
              "      <td>0</td>\n",
              "      <td>0</td>\n",
              "      <td>0</td>\n",
              "      <td>0</td>\n",
              "      <td>0</td>\n",
              "      <td>0</td>\n",
              "      <td>1</td>\n",
              "    </tr>\n",
              "    <tr>\n",
              "      <th>CarrierDelay</th>\n",
              "      <td>float64</td>\n",
              "      <td>689270</td>\n",
              "      <td>0.355889</td>\n",
              "      <td>1247488</td>\n",
              "      <td>19</td>\n",
              "      <td>43</td>\n",
              "      <td>0</td>\n",
              "      <td>0</td>\n",
              "      <td>2</td>\n",
              "      <td>21</td>\n",
              "      <td>2436</td>\n",
              "    </tr>\n",
              "    <tr>\n",
              "      <th>WeatherDelay</th>\n",
              "      <td>float64</td>\n",
              "      <td>689270</td>\n",
              "      <td>0.355889</td>\n",
              "      <td>1247488</td>\n",
              "      <td>3</td>\n",
              "      <td>21</td>\n",
              "      <td>0</td>\n",
              "      <td>0</td>\n",
              "      <td>0</td>\n",
              "      <td>0</td>\n",
              "      <td>1352</td>\n",
              "    </tr>\n",
              "    <tr>\n",
              "      <th>NASDelay</th>\n",
              "      <td>float64</td>\n",
              "      <td>689270</td>\n",
              "      <td>0.355889</td>\n",
              "      <td>1247488</td>\n",
              "      <td>15</td>\n",
              "      <td>33</td>\n",
              "      <td>0</td>\n",
              "      <td>0</td>\n",
              "      <td>2</td>\n",
              "      <td>15</td>\n",
              "      <td>1357</td>\n",
              "    </tr>\n",
              "    <tr>\n",
              "      <th>SecurityDelay</th>\n",
              "      <td>float64</td>\n",
              "      <td>689270</td>\n",
              "      <td>0.355889</td>\n",
              "      <td>1247488</td>\n",
              "      <td>0</td>\n",
              "      <td>2</td>\n",
              "      <td>0</td>\n",
              "      <td>0</td>\n",
              "      <td>0</td>\n",
              "      <td>0</td>\n",
              "      <td>392</td>\n",
              "    </tr>\n",
              "    <tr>\n",
              "      <th>LateAircraftDelay</th>\n",
              "      <td>float64</td>\n",
              "      <td>689270</td>\n",
              "      <td>0.355889</td>\n",
              "      <td>1247488</td>\n",
              "      <td>25</td>\n",
              "      <td>42</td>\n",
              "      <td>0</td>\n",
              "      <td>0</td>\n",
              "      <td>8</td>\n",
              "      <td>33</td>\n",
              "      <td>1316</td>\n",
              "    </tr>\n",
              "  </tbody>\n",
              "</table>\n",
              "</div>\n",
              "      <button class=\"colab-df-convert\" onclick=\"convertToInteractive('df-cc40edc9-66f9-4b54-abb0-5da645f3b65c')\"\n",
              "              title=\"Convert this dataframe to an interactive table.\"\n",
              "              style=\"display:none;\">\n",
              "        \n",
              "  <svg xmlns=\"http://www.w3.org/2000/svg\" height=\"24px\"viewBox=\"0 0 24 24\"\n",
              "       width=\"24px\">\n",
              "    <path d=\"M0 0h24v24H0V0z\" fill=\"none\"/>\n",
              "    <path d=\"M18.56 5.44l.94 2.06.94-2.06 2.06-.94-2.06-.94-.94-2.06-.94 2.06-2.06.94zm-11 1L8.5 8.5l.94-2.06 2.06-.94-2.06-.94L8.5 2.5l-.94 2.06-2.06.94zm10 10l.94 2.06.94-2.06 2.06-.94-2.06-.94-.94-2.06-.94 2.06-2.06.94z\"/><path d=\"M17.41 7.96l-1.37-1.37c-.4-.4-.92-.59-1.43-.59-.52 0-1.04.2-1.43.59L10.3 9.45l-7.72 7.72c-.78.78-.78 2.05 0 2.83L4 21.41c.39.39.9.59 1.41.59.51 0 1.02-.2 1.41-.59l7.78-7.78 2.81-2.81c.8-.78.8-2.07 0-2.86zM5.41 20L4 18.59l7.72-7.72 1.47 1.35L5.41 20z\"/>\n",
              "  </svg>\n",
              "      </button>\n",
              "      \n",
              "  <style>\n",
              "    .colab-df-container {\n",
              "      display:flex;\n",
              "      flex-wrap:wrap;\n",
              "      gap: 12px;\n",
              "    }\n",
              "\n",
              "    .colab-df-convert {\n",
              "      background-color: #E8F0FE;\n",
              "      border: none;\n",
              "      border-radius: 50%;\n",
              "      cursor: pointer;\n",
              "      display: none;\n",
              "      fill: #1967D2;\n",
              "      height: 32px;\n",
              "      padding: 0 0 0 0;\n",
              "      width: 32px;\n",
              "    }\n",
              "\n",
              "    .colab-df-convert:hover {\n",
              "      background-color: #E2EBFA;\n",
              "      box-shadow: 0px 1px 2px rgba(60, 64, 67, 0.3), 0px 1px 3px 1px rgba(60, 64, 67, 0.15);\n",
              "      fill: #174EA6;\n",
              "    }\n",
              "\n",
              "    [theme=dark] .colab-df-convert {\n",
              "      background-color: #3B4455;\n",
              "      fill: #D2E3FC;\n",
              "    }\n",
              "\n",
              "    [theme=dark] .colab-df-convert:hover {\n",
              "      background-color: #434B5C;\n",
              "      box-shadow: 0px 1px 3px 1px rgba(0, 0, 0, 0.15);\n",
              "      filter: drop-shadow(0px 1px 2px rgba(0, 0, 0, 0.3));\n",
              "      fill: #FFFFFF;\n",
              "    }\n",
              "  </style>\n",
              "\n",
              "      <script>\n",
              "        const buttonEl =\n",
              "          document.querySelector('#df-cc40edc9-66f9-4b54-abb0-5da645f3b65c button.colab-df-convert');\n",
              "        buttonEl.style.display =\n",
              "          google.colab.kernel.accessAllowed ? 'block' : 'none';\n",
              "\n",
              "        async function convertToInteractive(key) {\n",
              "          const element = document.querySelector('#df-cc40edc9-66f9-4b54-abb0-5da645f3b65c');\n",
              "          const dataTable =\n",
              "            await google.colab.kernel.invokeFunction('convertToInteractive',\n",
              "                                                     [key], {});\n",
              "          if (!dataTable) return;\n",
              "\n",
              "          const docLinkHtml = 'Like what you see? Visit the ' +\n",
              "            '<a target=\"_blank\" href=https://colab.research.google.com/notebooks/data_table.ipynb>data table notebook</a>'\n",
              "            + ' to learn more about interactive tables.';\n",
              "          element.innerHTML = '';\n",
              "          dataTable['output_type'] = 'display_data';\n",
              "          await google.colab.output.renderOutput(dataTable, element);\n",
              "          const docLink = document.createElement('div');\n",
              "          docLink.innerHTML = docLinkHtml;\n",
              "          element.appendChild(docLink);\n",
              "        }\n",
              "      </script>\n",
              "    </div>\n",
              "  </div>\n",
              "  "
            ]
          },
          "metadata": {},
          "execution_count": 5
        }
      ]
    },
    {
      "cell_type": "code",
      "source": [
        "date_list = ['Year','Month','DayofMonth','DayOfWeek']\n",
        "delay_time_list = ['DepTime','DepDelay','ArrTime','ArrDelay\t']\n",
        "delay_reason_list = ['CarrierDelay','WeatherDelay','NASDelay','SecurityDelay','LateAircraftDelay']\n",
        "flight_info_list = ['FlightNum','Origin','Dest']"
      ],
      "metadata": {
        "id": "T0bgqQvTNwjT"
      },
      "execution_count": null,
      "outputs": []
    },
    {
      "cell_type": "markdown",
      "source": [
        "**Observations:**\n",
        "\n",
        "Only when Arrival Delay is longer than 15 minutes there's data about what caused the delay.\n",
        "Arrival Delay is the sum of CarrierDelay, WeatherDelay, NASDelay and LateAircraftDelay.\n",
        "\n",
        "In cases of cancelation or diversion there's no data related to delay causes.\n",
        "\n",
        "Thus these columns can be imputed with 0."
      ],
      "metadata": {
        "id": "XCEnC9JgOIzf"
      }
    },
    {
      "cell_type": "markdown",
      "source": [
        "**2.EDA**\n",
        "\n",
        "2.1 Label\n",
        "\n",
        "\n"
      ],
      "metadata": {
        "id": "7EDBUQOiOu4_"
      }
    },
    {
      "cell_type": "code",
      "source": [
        "# Add new date and delay variables\n",
        "df['FlightDate'] = pd.to_datetime(df['Year'].astype(str) + '/' + df['Month'].astype(str) + '/' + df['DayofMonth'].astype(str))\n",
        "\n",
        "# counted as delay if > 15 min\n",
        "df['DepDel15'] = np.where(df['DepDelay'] > 15,1,0)\n",
        "df['ArrDel15'] = np.where(df['ArrDelay'] > 15,1,0)"
      ],
      "metadata": {
        "id": "nJx_XirkN8Zf"
      },
      "execution_count": null,
      "outputs": []
    },
    {
      "cell_type": "code",
      "source": [
        "df.hist(column='DepDel15')"
      ],
      "metadata": {
        "colab": {
          "base_uri": "https://localhost:8080/",
          "height": 469
        },
        "id": "RCE7cfK1O9sZ",
        "outputId": "e41added-47e9-4414-8c7c-76af37ad0ae2"
      },
      "execution_count": null,
      "outputs": [
        {
          "output_type": "execute_result",
          "data": {
            "text/plain": [
              "array([[<Axes: title={'center': 'DepDel15'}>]], dtype=object)"
            ]
          },
          "metadata": {},
          "execution_count": 8
        },
        {
          "output_type": "display_data",
          "data": {
            "text/plain": [
              "<Figure size 640x480 with 1 Axes>"
            ],
            "image/png": "[encoded data removed]"
          },
          "metadata": {}
        }
      ]
    },
    {
      "cell_type": "markdown",
      "source": [
        "Since we are predicting delays, using a threshold of 15 minutes to categorize a delay leads to the delays being the majority class. In view of this, we will experiment with another threshold for delays while at the same time predicting severe delays."
      ],
      "metadata": {
        "id": "9oz8G6E1PICv"
      }
    },
    {
      "cell_type": "code",
      "source": [
        "df['DepDel30'] = np.where(df['DepDelay'] > 30,1,0)\n",
        "df['DepDel30'].value_counts()"
      ],
      "metadata": {
        "colab": {
          "base_uri": "https://localhost:8080/"
        },
        "id": "2aFGhzMQPBez",
        "outputId": "98b94a4c-e542-4e16-a136-e41eb7630f8d"
      },
      "execution_count": null,
      "outputs": [
        {
          "output_type": "execute_result",
          "data": {
            "text/plain": [
              "0    1122307\n",
              "1     814451\n",
              "Name: DepDel30, dtype: int64"
            ]
          },
          "metadata": {},
          "execution_count": 9
        }
      ]
    },
    {
      "cell_type": "markdown",
      "source": [
        "Using a threshold of 30 minutes leads to the delays being the minority class and at the same time prediting longer delays might have a deeper business application."
      ],
      "metadata": {
        "id": "JGm4Y7GNPRH_"
      }
    },
    {
      "cell_type": "code",
      "source": [
        "df.hist(column='DepDel30')"
      ],
      "metadata": {
        "colab": {
          "base_uri": "https://localhost:8080/",
          "height": 469
        },
        "id": "jQnapmBdPMaC",
        "outputId": "4d76eadb-c4c4-4148-f849-9494b8a8aba0"
      },
      "execution_count": null,
      "outputs": [
        {
          "output_type": "execute_result",
          "data": {
            "text/plain": [
              "array([[<Axes: title={'center': 'DepDel30'}>]], dtype=object)"
            ]
          },
          "metadata": {},
          "execution_count": 10
        },
        {
          "output_type": "display_data",
          "data": {
            "text/plain": [
              "<Figure size 640x480 with 1 Axes>"
            ],
            "image/png": "[encoded data removed]"
          },
          "metadata": {}
        }
      ]
    },
    {
      "cell_type": "markdown",
      "source": [
        "**2.2 Exploring Arr and Dep Delay**"
      ],
      "metadata": {
        "id": "MJ3C9pL1PYKH"
      }
    },
    {
      "cell_type": "code",
      "source": [
        "plt.figure(figsize = (10,10))\n",
        "\n",
        "plt.subplot(2,2,1)\n",
        "sns.distplot(df['ArrDelay'])\n",
        "\n",
        "plt.subplot(2,2,2)\n",
        "sns.distplot(df['DepDelay'])\n",
        "\n",
        "plt.show()"
      ],
      "metadata": {
        "colab": {
          "base_uri": "https://localhost:8080/",
          "height": 421
        },
        "id": "HAvL8BbkPUDK",
        "outputId": "55bfc6d1-9355-422f-eba7-29549a937b4d"
      },
      "execution_count": null,
      "outputs": [
        {
          "output_type": "display_data",
          "data": {
            "text/plain": [
              "<Figure size 1000x1000 with 2 Axes>"
            ],
            "image/png": "[encoded data removed]"
          },
          "metadata": {}
        }
      ]
    },
    {
      "cell_type": "markdown",
      "source": [
        "Delays are mostly located on the left side of the graph, with a long tail to the right. The majority of delays are short, and the longer delays, while unusual, are more heavy loaded in time."
      ],
      "metadata": {
        "id": "ITN3W4DXPh4b"
      }
    },
    {
      "cell_type": "markdown",
      "source": [
        "**2.3 Group DepDelay by TailNum**"
      ],
      "metadata": {
        "id": "zbTDsFI-Pne-"
      }
    },
    {
      "cell_type": "code",
      "source": [
        "def get_stats(group):\n",
        "    return {'count': group.count(), 'min': group.min(), 'max': group.max(), 'mean': group.mean(), 'std': group.std(), 'sum': group.sum()}\n",
        "\n",
        "tailnum_stats = df['DepDelay'].groupby(df['TailNum']).apply(get_stats).unstack().sort_values('count', ascending = False)\n",
        "\n",
        "plt.figure(figsize = (20,20))\n",
        "\n",
        "plt.subplot(2,2,1)\n",
        "plt.pie(tailnum_stats['mean'][:10], labels = tailnum_stats.index[:10])\n",
        "\n",
        "plt.subplot(2,2,2)\n",
        "plt.pie(tailnum_stats['mean'][-9:], labels = tailnum_stats.index[-9:])\n",
        "\n",
        "tailnum_stats"
      ],
      "metadata": {
        "colab": {
          "base_uri": "https://localhost:8080/",
          "height": 848
        },
        "id": "oINrNN5OPdml",
        "outputId": "17f03221-56b1-4e6d-c266-0274de9cda05"
      },
      "execution_count": null,
      "outputs": [
        {
          "output_type": "execute_result",
          "data": {
            "text/plain": [
              "         count   min    max       mean        std      sum\n",
              "TailNum                                                   \n",
              "N325SW   965.0   6.0  346.0  33.818653  40.394081  32635.0\n",
              "N676SW   951.0   6.0  404.0  32.865405  38.751961  31255.0\n",
              "N658SW   945.0   6.0  523.0  37.916402  44.243936  35831.0\n",
              "N313SW   937.0   6.0  343.0  36.005336  43.184198  33737.0\n",
              "N308SA   936.0   6.0  286.0  32.824786  38.785648  30724.0\n",
              "...        ...   ...    ...        ...        ...      ...\n",
              "N826MH     1.0  12.0   12.0  12.000000        NaN     12.0\n",
              "N74007     1.0   9.0    9.0   9.000000        NaN      9.0\n",
              "N76010     1.0  16.0   16.0  16.000000        NaN     16.0\n",
              "N77006     1.0  42.0   42.0  42.000000        NaN     42.0\n",
              "9189E      1.0  31.0   31.0  31.000000        NaN     31.0\n",
              "\n",
              "[5366 rows x 6 columns]"
            ],
            "text/html": [
              "\n",
              "  <div id=\"df-a9d39153-1fc1-4cf7-b0a6-78016616fa30\">\n",
              "    <div class=\"colab-df-container\">\n",
              "      <div>\n",
              "<style scoped>\n",
              "    .dataframe tbody tr th:only-of-type {\n",
              "        vertical-align: middle;\n",
              "    }\n",
              "\n",
              "    .dataframe tbody tr th {\n",
              "        vertical-align: top;\n",
              "    }\n",
              "\n",
              "    .dataframe thead th {\n",
              "        text-align: right;\n",
              "    }\n",
              "</style>\n",
              "<table border=\"1\" class=\"dataframe\">\n",
              "  <thead>\n",
              "    <tr style=\"text-align: right;\">\n",
              "      <th></th>\n",
              "      <th>count</th>\n",
              "      <th>min</th>\n",
              "      <th>max</th>\n",
              "      <th>mean</th>\n",
              "      <th>std</th>\n",
              "      <th>sum</th>\n",
              "    </tr>\n",
              "    <tr>\n",
              "      <th>TailNum</th>\n",
              "      <th></th>\n",
              "      <th></th>\n",
              "      <th></th>\n",
              "      <th></th>\n",
              "      <th></th>\n",
              "      <th></th>\n",
              "    </tr>\n",
              "  </thead>\n",
              "  <tbody>\n",
              "    <tr>\n",
              "      <th>N325SW</th>\n",
              "      <td>965.0</td>\n",
              "      <td>6.0</td>\n",
              "      <td>346.0</td>\n",
              "      <td>33.818653</td>\n",
              "      <td>40.394081</td>\n",
              "      <td>32635.0</td>\n",
              "    </tr>\n",
              "    <tr>\n",
              "      <th>N676SW</th>\n",
              "      <td>951.0</td>\n",
              "      <td>6.0</td>\n",
              "      <td>404.0</td>\n",
              "      <td>32.865405</td>\n",
              "      <td>38.751961</td>\n",
              "      <td>31255.0</td>\n",
              "    </tr>\n",
              "    <tr>\n",
              "      <th>N658SW</th>\n",
              "      <td>945.0</td>\n",
              "      <td>6.0</td>\n",
              "      <td>523.0</td>\n",
              "      <td>37.916402</td>\n",
              "      <td>44.243936</td>\n",
              "      <td>35831.0</td>\n",
              "    </tr>\n",
              "    <tr>\n",
              "      <th>N313SW</th>\n",
              "      <td>937.0</td>\n",
              "      <td>6.0</td>\n",
              "      <td>343.0</td>\n",
              "      <td>36.005336</td>\n",
              "      <td>43.184198</td>\n",
              "      <td>33737.0</td>\n",
              "    </tr>\n",
              "    <tr>\n",
              "      <th>N308SA</th>\n",
              "      <td>936.0</td>\n",
              "      <td>6.0</td>\n",
              "      <td>286.0</td>\n",
              "      <td>32.824786</td>\n",
              "      <td>38.785648</td>\n",
              "      <td>30724.0</td>\n",
              "    </tr>\n",
              "    <tr>\n",
              "      <th>...</th>\n",
              "      <td>...</td>\n",
              "      <td>...</td>\n",
              "      <td>...</td>\n",
              "      <td>...</td>\n",
              "      <td>...</td>\n",
              "      <td>...</td>\n",
              "    </tr>\n",
              "    <tr>\n",
              "      <th>N826MH</th>\n",
              "      <td>1.0</td>\n",
              "      <td>12.0</td>\n",
              "      <td>12.0</td>\n",
              "      <td>12.000000</td>\n",
              "      <td>NaN</td>\n",
              "      <td>12.0</td>\n",
              "    </tr>\n",
              "    <tr>\n",
              "      <th>N74007</th>\n",
              "      <td>1.0</td>\n",
              "      <td>9.0</td>\n",
              "      <td>9.0</td>\n",
              "      <td>9.000000</td>\n",
              "      <td>NaN</td>\n",
              "      <td>9.0</td>\n",
              "    </tr>\n",
              "    <tr>\n",
              "      <th>N76010</th>\n",
              "      <td>1.0</td>\n",
              "      <td>16.0</td>\n",
              "      <td>16.0</td>\n",
              "      <td>16.000000</td>\n",
              "      <td>NaN</td>\n",
              "      <td>16.0</td>\n",
              "    </tr>\n",
              "    <tr>\n",
              "      <th>N77006</th>\n",
              "      <td>1.0</td>\n",
              "      <td>42.0</td>\n",
              "      <td>42.0</td>\n",
              "      <td>42.000000</td>\n",
              "      <td>NaN</td>\n",
              "      <td>42.0</td>\n",
              "    </tr>\n",
              "    <tr>\n",
              "      <th>9189E</th>\n",
              "      <td>1.0</td>\n",
              "      <td>31.0</td>\n",
              "      <td>31.0</td>\n",
              "      <td>31.000000</td>\n",
              "      <td>NaN</td>\n",
              "      <td>31.0</td>\n",
              "    </tr>\n",
              "  </tbody>\n",
              "</table>\n",
              "<p>5366 rows × 6 columns</p>\n",
              "</div>\n",
              "      <button class=\"colab-df-convert\" onclick=\"convertToInteractive('df-a9d39153-1fc1-4cf7-b0a6-78016616fa30')\"\n",
              "              title=\"Convert this dataframe to an interactive table.\"\n",
              "              style=\"display:none;\">\n",
              "        \n",
              "  <svg xmlns=\"http://www.w3.org/2000/svg\" height=\"24px\"viewBox=\"0 0 24 24\"\n",
              "       width=\"24px\">\n",
              "    <path d=\"M0 0h24v24H0V0z\" fill=\"none\"/>\n",
              "    <path d=\"M18.56 5.44l.94 2.06.94-2.06 2.06-.94-2.06-.94-.94-2.06-.94 2.06-2.06.94zm-11 1L8.5 8.5l.94-2.06 2.06-.94-2.06-.94L8.5 2.5l-.94 2.06-2.06.94zm10 10l.94 2.06.94-2.06 2.06-.94-2.06-.94-.94-2.06-.94 2.06-2.06.94z\"/><path d=\"M17.41 7.96l-1.37-1.37c-.4-.4-.92-.59-1.43-.59-.52 0-1.04.2-1.43.59L10.3 9.45l-7.72 7.72c-.78.78-.78 2.05 0 2.83L4 21.41c.39.39.9.59 1.41.59.51 0 1.02-.2 1.41-.59l7.78-7.78 2.81-2.81c.8-.78.8-2.07 0-2.86zM5.41 20L4 18.59l7.72-7.72 1.47 1.35L5.41 20z\"/>\n",
              "  </svg>\n",
              "      </button>\n",
              "      \n",
              "  <style>\n",
              "    .colab-df-container {\n",
              "      display:flex;\n",
              "      flex-wrap:wrap;\n",
              "      gap: 12px;\n",
              "    }\n",
              "\n",
              "    .colab-df-convert {\n",
              "      background-color: #E8F0FE;\n",
              "      border: none;\n",
              "      border-radius: 50%;\n",
              "      cursor: pointer;\n",
              "      display: none;\n",
              "      fill: #1967D2;\n",
              "      height: 32px;\n",
              "      padding: 0 0 0 0;\n",
              "      width: 32px;\n",
              "    }\n",
              "\n",
              "    .colab-df-convert:hover {\n",
              "      background-color: #E2EBFA;\n",
              "      box-shadow: 0px 1px 2px rgba(60, 64, 67, 0.3), 0px 1px 3px 1px rgba(60, 64, 67, 0.15);\n",
              "      fill: #174EA6;\n",
              "    }\n",
              "\n",
              "    [theme=dark] .colab-df-convert {\n",
              "      background-color: #3B4455;\n",
              "      fill: #D2E3FC;\n",
              "    }\n",
              "\n",
              "    [theme=dark] .colab-df-convert:hover {\n",
              "      background-color: #434B5C;\n",
              "      box-shadow: 0px 1px 3px 1px rgba(0, 0, 0, 0.15);\n",
              "      filter: drop-shadow(0px 1px 2px rgba(0, 0, 0, 0.3));\n",
              "      fill: #FFFFFF;\n",
              "    }\n",
              "  </style>\n",
              "\n",
              "      <script>\n",
              "        const buttonEl =\n",
              "          document.querySelector('#df-a9d39153-1fc1-4cf7-b0a6-78016616fa30 button.colab-df-convert');\n",
              "        buttonEl.style.display =\n",
              "          google.colab.kernel.accessAllowed ? 'block' : 'none';\n",
              "\n",
              "        async function convertToInteractive(key) {\n",
              "          const element = document.querySelector('#df-a9d39153-1fc1-4cf7-b0a6-78016616fa30');\n",
              "          const dataTable =\n",
              "            await google.colab.kernel.invokeFunction('convertToInteractive',\n",
              "                                                     [key], {});\n",
              "          if (!dataTable) return;\n",
              "\n",
              "          const docLinkHtml = 'Like what you see? Visit the ' +\n",
              "            '<a target=\"_blank\" href=https://colab.research.google.com/notebooks/data_table.ipynb>data table notebook</a>'\n",
              "            + ' to learn more about interactive tables.';\n",
              "          element.innerHTML = '';\n",
              "          dataTable['output_type'] = 'display_data';\n",
              "          await google.colab.output.renderOutput(dataTable, element);\n",
              "          const docLink = document.createElement('div');\n",
              "          docLink.innerHTML = docLinkHtml;\n",
              "          element.appendChild(docLink);\n",
              "        }\n",
              "      </script>\n",
              "    </div>\n",
              "  </div>\n",
              "  "
            ]
          },
          "metadata": {},
          "execution_count": 12
        },
        {
          "output_type": "display_data",
          "data": {
            "text/plain": [
              "<Figure size 2000x2000 with 2 Axes>"
            ],
            "image/png": "[encoded data removed]"
          },
          "metadata": {}
        }
      ]
    },
    {
      "cell_type": "markdown",
      "source": [
        "Popular aircrafts on average have a consistent delay of approximaltely 30 min while less popular aircrafts have a fluctuating delay time"
      ],
      "metadata": {
        "id": "kbXD_EI8P01p"
      }
    },
    {
      "cell_type": "markdown",
      "source": [
        "**2.4 Dest groupby DepDelay**"
      ],
      "metadata": {
        "id": "DZV1YCbnP5TI"
      }
    },
    {
      "cell_type": "code",
      "source": [
        "dest_stats = df['DepDel15'].groupby(df['Dest']).apply(get_stats).unstack().sort_values('count', ascending = False)\n",
        "dest_stats.sort_values(['count','mean'], ascending = False)"
      ],
      "metadata": {
        "colab": {
          "base_uri": "https://localhost:8080/",
          "height": 455
        },
        "id": "k09Amf6aPw9-",
        "outputId": "fd83248a-68bb-4aff-a86b-fe89fd95b8c1"
      },
      "execution_count": null,
      "outputs": [
        {
          "output_type": "execute_result",
          "data": {
            "text/plain": [
              "         count  min  max      mean       std      sum\n",
              "Dest                                                 \n",
              "ORD   108984.0  0.0  1.0  0.753468  0.430994  82116.0\n",
              "ATL   106898.0  0.0  1.0  0.659432  0.473902  70492.0\n",
              "DFW    70657.0  0.0  1.0  0.661647  0.473153  46750.0\n",
              "DEN    63003.0  0.0  1.0  0.621399  0.485042  39150.0\n",
              "LAX    59969.0  0.0  1.0  0.609231  0.487927  36535.0\n",
              "...        ...  ...  ...       ...       ...      ...\n",
              "INL        9.0  1.0  1.0  1.000000  0.000000      9.0\n",
              "PIR        3.0  1.0  1.0  1.000000  0.000000      3.0\n",
              "CYS        1.0  0.0  0.0  0.000000       NaN      0.0\n",
              "TUP        1.0  0.0  0.0  0.000000       NaN      0.0\n",
              "OGD        1.0  0.0  0.0  0.000000       NaN      0.0\n",
              "\n",
              "[304 rows x 6 columns]"
            ],
            "text/html": [
              "\n",
              "  <div id=\"df-0a55cf90-bf1a-4bf9-a9ed-aa12319a105a\">\n",
              "    <div class=\"colab-df-container\">\n",
              "      <div>\n",
              "<style scoped>\n",
              "    .dataframe tbody tr th:only-of-type {\n",
              "        vertical-align: middle;\n",
              "    }\n",
              "\n",
              "    .dataframe tbody tr th {\n",
              "        vertical-align: top;\n",
              "    }\n",
              "\n",
              "    .dataframe thead th {\n",
              "        text-align: right;\n",
              "    }\n",
              "</style>\n",
              "<table border=\"1\" class=\"dataframe\">\n",
              "  <thead>\n",
              "    <tr style=\"text-align: right;\">\n",
              "      <th></th>\n",
              "      <th>count</th>\n",
              "      <th>min</th>\n",
              "      <th>max</th>\n",
              "      <th>mean</th>\n",
              "      <th>std</th>\n",
              "      <th>sum</th>\n",
              "    </tr>\n",
              "    <tr>\n",
              "      <th>Dest</th>\n",
              "      <th></th>\n",
              "      <th></th>\n",
              "      <th></th>\n",
              "      <th></th>\n",
              "      <th></th>\n",
              "      <th></th>\n",
              "    </tr>\n",
              "  </thead>\n",
              "  <tbody>\n",
              "    <tr>\n",
              "      <th>ORD</th>\n",
              "      <td>108984.0</td>\n",
              "      <td>0.0</td>\n",
              "      <td>1.0</td>\n",
              "      <td>0.753468</td>\n",
              "      <td>0.430994</td>\n",
              "      <td>82116.0</td>\n",
              "    </tr>\n",
              "    <tr>\n",
              "      <th>ATL</th>\n",
              "      <td>106898.0</td>\n",
              "      <td>0.0</td>\n",
              "      <td>1.0</td>\n",
              "      <td>0.659432</td>\n",
              "      <td>0.473902</td>\n",
              "      <td>70492.0</td>\n",
              "    </tr>\n",
              "    <tr>\n",
              "      <th>DFW</th>\n",
              "      <td>70657.0</td>\n",
              "      <td>0.0</td>\n",
              "      <td>1.0</td>\n",
              "      <td>0.661647</td>\n",
              "      <td>0.473153</td>\n",
              "      <td>46750.0</td>\n",
              "    </tr>\n",
              "    <tr>\n",
              "      <th>DEN</th>\n",
              "      <td>63003.0</td>\n",
              "      <td>0.0</td>\n",
              "      <td>1.0</td>\n",
              "      <td>0.621399</td>\n",
              "      <td>0.485042</td>\n",
              "      <td>39150.0</td>\n",
              "    </tr>\n",
              "    <tr>\n",
              "      <th>LAX</th>\n",
              "      <td>59969.0</td>\n",
              "      <td>0.0</td>\n",
              "      <td>1.0</td>\n",
              "      <td>0.609231</td>\n",
              "      <td>0.487927</td>\n",
              "      <td>36535.0</td>\n",
              "    </tr>\n",
              "    <tr>\n",
              "      <th>...</th>\n",
              "      <td>...</td>\n",
              "      <td>...</td>\n",
              "      <td>...</td>\n",
              "      <td>...</td>\n",
              "      <td>...</td>\n",
              "      <td>...</td>\n",
              "    </tr>\n",
              "    <tr>\n",
              "      <th>INL</th>\n",
              "      <td>9.0</td>\n",
              "      <td>1.0</td>\n",
              "      <td>1.0</td>\n",
              "      <td>1.000000</td>\n",
              "      <td>0.000000</td>\n",
              "      <td>9.0</td>\n",
              "    </tr>\n",
              "    <tr>\n",
              "      <th>PIR</th>\n",
              "      <td>3.0</td>\n",
              "      <td>1.0</td>\n",
              "      <td>1.0</td>\n",
              "      <td>1.000000</td>\n",
              "      <td>0.000000</td>\n",
              "      <td>3.0</td>\n",
              "    </tr>\n",
              "    <tr>\n",
              "      <th>CYS</th>\n",
              "      <td>1.0</td>\n",
              "      <td>0.0</td>\n",
              "      <td>0.0</td>\n",
              "      <td>0.000000</td>\n",
              "      <td>NaN</td>\n",
              "      <td>0.0</td>\n",
              "    </tr>\n",
              "    <tr>\n",
              "      <th>TUP</th>\n",
              "      <td>1.0</td>\n",
              "      <td>0.0</td>\n",
              "      <td>0.0</td>\n",
              "      <td>0.000000</td>\n",
              "      <td>NaN</td>\n",
              "      <td>0.0</td>\n",
              "    </tr>\n",
              "    <tr>\n",
              "      <th>OGD</th>\n",
              "      <td>1.0</td>\n",
              "      <td>0.0</td>\n",
              "      <td>0.0</td>\n",
              "      <td>0.000000</td>\n",
              "      <td>NaN</td>\n",
              "      <td>0.0</td>\n",
              "    </tr>\n",
              "  </tbody>\n",
              "</table>\n",
              "<p>304 rows × 6 columns</p>\n",
              "</div>\n",
              "      <button class=\"colab-df-convert\" onclick=\"convertToInteractive('df-0a55cf90-bf1a-4bf9-a9ed-aa12319a105a')\"\n",
              "              title=\"Convert this dataframe to an interactive table.\"\n",
              "              style=\"display:none;\">\n",
              "        \n",
              "  <svg xmlns=\"http://www.w3.org/2000/svg\" height=\"24px\"viewBox=\"0 0 24 24\"\n",
              "       width=\"24px\">\n",
              "    <path d=\"M0 0h24v24H0V0z\" fill=\"none\"/>\n",
              "    <path d=\"M18.56 5.44l.94 2.06.94-2.06 2.06-.94-2.06-.94-.94-2.06-.94 2.06-2.06.94zm-11 1L8.5 8.5l.94-2.06 2.06-.94-2.06-.94L8.5 2.5l-.94 2.06-2.06.94zm10 10l.94 2.06.94-2.06 2.06-.94-2.06-.94-.94-2.06-.94 2.06-2.06.94z\"/><path d=\"M17.41 7.96l-1.37-1.37c-.4-.4-.92-.59-1.43-.59-.52 0-1.04.2-1.43.59L10.3 9.45l-7.72 7.72c-.78.78-.78 2.05 0 2.83L4 21.41c.39.39.9.59 1.41.59.51 0 1.02-.2 1.41-.59l7.78-7.78 2.81-2.81c.8-.78.8-2.07 0-2.86zM5.41 20L4 18.59l7.72-7.72 1.47 1.35L5.41 20z\"/>\n",
              "  </svg>\n",
              "      </button>\n",
              "      \n",
              "  <style>\n",
              "    .colab-df-container {\n",
              "      display:flex;\n",
              "      flex-wrap:wrap;\n",
              "      gap: 12px;\n",
              "    }\n",
              "\n",
              "    .colab-df-convert {\n",
              "      background-color: #E8F0FE;\n",
              "      border: none;\n",
              "      border-radius: 50%;\n",
              "      cursor: pointer;\n",
              "      display: none;\n",
              "      fill: #1967D2;\n",
              "      height: 32px;\n",
              "      padding: 0 0 0 0;\n",
              "      width: 32px;\n",
              "    }\n",
              "\n",
              "    .colab-df-convert:hover {\n",
              "      background-color: #E2EBFA;\n",
              "      box-shadow: 0px 1px 2px rgba(60, 64, 67, 0.3), 0px 1px 3px 1px rgba(60, 64, 67, 0.15);\n",
              "      fill: #174EA6;\n",
              "    }\n",
              "\n",
              "    [theme=dark] .colab-df-convert {\n",
              "      background-color: #3B4455;\n",
              "      fill: #D2E3FC;\n",
              "    }\n",
              "\n",
              "    [theme=dark] .colab-df-convert:hover {\n",
              "      background-color: #434B5C;\n",
              "      box-shadow: 0px 1px 3px 1px rgba(0, 0, 0, 0.15);\n",
              "      filter: drop-shadow(0px 1px 2px rgba(0, 0, 0, 0.3));\n",
              "      fill: #FFFFFF;\n",
              "    }\n",
              "  </style>\n",
              "\n",
              "      <script>\n",
              "        const buttonEl =\n",
              "          document.querySelector('#df-0a55cf90-bf1a-4bf9-a9ed-aa12319a105a button.colab-df-convert');\n",
              "        buttonEl.style.display =\n",
              "          google.colab.kernel.accessAllowed ? 'block' : 'none';\n",
              "\n",
              "        async function convertToInteractive(key) {\n",
              "          const element = document.querySelector('#df-0a55cf90-bf1a-4bf9-a9ed-aa12319a105a');\n",
              "          const dataTable =\n",
              "            await google.colab.kernel.invokeFunction('convertToInteractive',\n",
              "                                                     [key], {});\n",
              "          if (!dataTable) return;\n",
              "\n",
              "          const docLinkHtml = 'Like what you see? Visit the ' +\n",
              "            '<a target=\"_blank\" href=https://colab.research.google.com/notebooks/data_table.ipynb>data table notebook</a>'\n",
              "            + ' to learn more about interactive tables.';\n",
              "          element.innerHTML = '';\n",
              "          dataTable['output_type'] = 'display_data';\n",
              "          await google.colab.output.renderOutput(dataTable, element);\n",
              "          const docLink = document.createElement('div');\n",
              "          docLink.innerHTML = docLinkHtml;\n",
              "          element.appendChild(docLink);\n",
              "        }\n",
              "      </script>\n",
              "    </div>\n",
              "  </div>\n",
              "  "
            ]
          },
          "metadata": {},
          "execution_count": 13
        }
      ]
    },
    {
      "cell_type": "markdown",
      "source": [
        "Popular destinations are more likely to get delay perhaps due to traffic congestion"
      ],
      "metadata": {
        "id": "3La9OChwQCim"
      }
    },
    {
      "cell_type": "markdown",
      "source": [
        "**2.5 Frequency of Originating and Departing Airports**\n",
        "\n",
        "Viewing top 20 Originating and Departing Airports"
      ],
      "metadata": {
        "id": "vjYRZKBiQFYi"
      }
    },
    {
      "cell_type": "code",
      "source": [
        "plt.figure(figsize = (20,20))\n",
        "\n",
        "plt.subplot(2,2,1)\n",
        "sns.countplot(x='Origin', data=df, order=df['Origin'].value_counts().iloc[:20].index)\n",
        "\n",
        "plt.subplot(2,2,2)\n",
        "sns.countplot(x='Dest', data=df, order=df['Dest'].value_counts().iloc[:20].index)"
      ],
      "metadata": {
        "colab": {
          "base_uri": "https://localhost:8080/",
          "height": 431
        },
        "id": "fm5vEKArP9xb",
        "outputId": "de79601e-7ef3-4fb3-cd24-1a9f5a3204b9"
      },
      "execution_count": null,
      "outputs": [
        {
          "output_type": "execute_result",
          "data": {
            "text/plain": [
              "<Axes: xlabel='Dest', ylabel='count'>"
            ]
          },
          "metadata": {},
          "execution_count": 14
        },
        {
          "output_type": "display_data",
          "data": {
            "text/plain": [
              "<Figure size 2000x2000 with 2 Axes>"
            ],
            "image/png": "[encoded data removed]"
          },
          "metadata": {}
        }
      ]
    },
    {
      "cell_type": "markdown",
      "source": [
        "A majority of flights are occuring between ATL, ORD, DFW, DEN, and LAX."
      ],
      "metadata": {
        "id": "m6_rABQjQVmr"
      }
    },
    {
      "cell_type": "markdown",
      "source": [
        "**2.6 Seasonal Effect**\n",
        "\n",
        "Month and DayOfWeek"
      ],
      "metadata": {
        "id": "V8eP1-_LQalv"
      }
    },
    {
      "cell_type": "code",
      "source": [
        "plt.figure(figsize = (20,20))\n",
        "\n",
        "plt.subplot(2,2,1)\n",
        "sns.countplot(x = 'Month', palette='Set1', data = df)\n",
        "\n",
        "plt.subplot(2,2,2)\n",
        "sns.countplot(x = 'DayOfWeek', palette='Set2', data = df)"
      ],
      "metadata": {
        "colab": {
          "base_uri": "https://localhost:8080/",
          "height": 431
        },
        "id": "_A9EmqNOQRCA",
        "outputId": "d2bf3aeb-4d1f-420e-f78b-8e27eb2003a9"
      },
      "execution_count": null,
      "outputs": [
        {
          "output_type": "execute_result",
          "data": {
            "text/plain": [
              "<Axes: xlabel='DayOfWeek', ylabel='count'>"
            ]
          },
          "metadata": {},
          "execution_count": 15
        },
        {
          "output_type": "display_data",
          "data": {
            "text/plain": [
              "<Figure size 2000x2000 with 2 Axes>"
            ],
            "image/png": "[encoded data removed]"
          },
          "metadata": {}
        }
      ]
    },
    {
      "cell_type": "markdown",
      "source": [
        "Month effect:\n",
        "\n",
        "There is more data for the months of January and December 2008. This can be expected as travelling is popular during the end of the year. The summer months also see an uptick in flights data.\n",
        "\n",
        "Week effect:\n",
        "\n",
        "It seems that there are most fligths on Friday (5) according to our datset."
      ],
      "metadata": {
        "id": "ztoRwgWNQlrD"
      }
    },
    {
      "cell_type": "markdown",
      "source": [
        "**2.7 Cancelled and Diverted Flights**"
      ],
      "metadata": {
        "id": "UhgmiqGmQsJ5"
      }
    },
    {
      "cell_type": "code",
      "source": [
        "df[\"Cancelled\"].value_counts()"
      ],
      "metadata": {
        "colab": {
          "base_uri": "https://localhost:8080/"
        },
        "id": "-ETeCgJnQiGd",
        "outputId": "70074403-a937-447e-a4ef-c7e0d7e9b4c2"
      },
      "execution_count": null,
      "outputs": [
        {
          "output_type": "execute_result",
          "data": {
            "text/plain": [
              "0    1936125\n",
              "1        633\n",
              "Name: Cancelled, dtype: int64"
            ]
          },
          "metadata": {},
          "execution_count": 16
        }
      ]
    },
    {
      "cell_type": "markdown",
      "source": [
        "There were only a tiny fraction of flights that were cancelled."
      ],
      "metadata": {
        "id": "yaoQZ1yBRYTo"
      }
    },
    {
      "cell_type": "code",
      "source": [
        "df[\"Diverted\"].value_counts()"
      ],
      "metadata": {
        "colab": {
          "base_uri": "https://localhost:8080/"
        },
        "id": "kZlvksE_RWCs",
        "outputId": "ac20cbfe-c6cb-4b65-8f8b-dcf6a77e0d55"
      },
      "execution_count": null,
      "outputs": [
        {
          "output_type": "execute_result",
          "data": {
            "text/plain": [
              "0    1929004\n",
              "1       7754\n",
              "Name: Diverted, dtype: int64"
            ]
          },
          "metadata": {},
          "execution_count": 17
        }
      ]
    },
    {
      "cell_type": "markdown",
      "source": [
        "A small proportion of flights were diverted."
      ],
      "metadata": {
        "id": "UsU2SzaoRdgv"
      }
    },
    {
      "cell_type": "markdown",
      "source": [
        "**2.8 Bottom 20 origin and dest airports**"
      ],
      "metadata": {
        "id": "DPLZUxK1Rtsc"
      }
    },
    {
      "cell_type": "code",
      "source": [
        "bottom_20_origin = df['Origin'].value_counts()[-20:]\n",
        "bottom_20_origin"
      ],
      "metadata": {
        "colab": {
          "base_uri": "https://localhost:8080/"
        },
        "id": "BgnSi3XwRbD-",
        "outputId": "2b013361-0e07-46ec-b9b8-f698533d3e8a"
      },
      "execution_count": null,
      "outputs": [
        {
          "output_type": "execute_result",
          "data": {
            "text/plain": [
              "TEX    52\n",
              "LWB    48\n",
              "GST    40\n",
              "CMX    34\n",
              "RFD    33\n",
              "RHI    33\n",
              "ALO    31\n",
              "ACY    29\n",
              "ITH    29\n",
              "BPT    27\n",
              "SUX    22\n",
              "PLN    21\n",
              "WYS    10\n",
              "HTS    10\n",
              "BLI     4\n",
              "BJI     4\n",
              "PIR     3\n",
              "PUB     2\n",
              "INL     1\n",
              "TUP     1\n",
              "Name: Origin, dtype: int64"
            ]
          },
          "metadata": {},
          "execution_count": 18
        }
      ]
    },
    {
      "cell_type": "code",
      "source": [
        "bottom_20_dest = df['Dest'].value_counts()[-20:]\n",
        "bottom_20_dest"
      ],
      "metadata": {
        "colab": {
          "base_uri": "https://localhost:8080/"
        },
        "id": "FF5MfIc8Rz-Q",
        "outputId": "0070ecac-eb71-4346-8727-71e22397691d"
      },
      "execution_count": null,
      "outputs": [
        {
          "output_type": "execute_result",
          "data": {
            "text/plain": [
              "YKM    47\n",
              "GST    46\n",
              "RHI    45\n",
              "DLG    43\n",
              "AKN    43\n",
              "ACY    38\n",
              "LWB    35\n",
              "HTS    33\n",
              "TEX    32\n",
              "ADK    31\n",
              "WYS    31\n",
              "SUX    28\n",
              "ITH    16\n",
              "BLI    13\n",
              "BJI    12\n",
              "INL     9\n",
              "PIR     3\n",
              "CYS     1\n",
              "TUP     1\n",
              "OGD     1\n",
              "Name: Dest, dtype: int64"
            ]
          },
          "metadata": {},
          "execution_count": 19
        }
      ]
    },
    {
      "cell_type": "markdown",
      "source": [
        "There are some airports that are highly infrequently used.\n",
        "\n",
        "Origin Airport Binning Exploration"
      ],
      "metadata": {
        "id": "LShdntDbR6en"
      }
    },
    {
      "cell_type": "code",
      "source": [
        "origin = df['Origin'].value_counts()\n",
        "origin.quantile([.25, .5, .75])"
      ],
      "metadata": {
        "colab": {
          "base_uri": "https://localhost:8080/"
        },
        "id": "B7YBQBWMR2y8",
        "outputId": "758b2635-d251-4d3d-9aea-a43e2f79aa64"
      },
      "execution_count": null,
      "outputs": [
        {
          "output_type": "execute_result",
          "data": {
            "text/plain": [
              "0.25     262.0\n",
              "0.50     905.0\n",
              "0.75    3652.0\n",
              "Name: Origin, dtype: float64"
            ]
          },
          "metadata": {},
          "execution_count": 20
        }
      ]
    },
    {
      "cell_type": "markdown",
      "source": [
        "**2.9 Carriers**"
      ],
      "metadata": {
        "id": "Om6MKPa4SCBL"
      }
    },
    {
      "cell_type": "code",
      "source": [
        "sns.countplot(x='UniqueCarrier', palette='Set2', data=df, order=df['UniqueCarrier'].value_counts().index)\n",
        "plt.show()\n",
        "\n",
        "df['UniqueCarrier'].value_counts()"
      ],
      "metadata": {
        "colab": {
          "base_uri": "https://localhost:8080/",
          "height": 813
        },
        "id": "vEbj5P7eR_rO",
        "outputId": "4a2f3700-443d-4a19-e25e-c1eeacd29acb"
      },
      "execution_count": null,
      "outputs": [
        {
          "output_type": "display_data",
          "data": {
            "text/plain": [
              "<Figure size 640x480 with 1 Axes>"
            ],
            "image/png": "[encoded data removed]"
          },
          "metadata": {}
        },
        {
          "output_type": "execute_result",
          "data": {
            "text/plain": [
              "WN    377602\n",
              "AA    191865\n",
              "MQ    141920\n",
              "UA    141426\n",
              "OO    132433\n",
              "DL    114238\n",
              "XE    103663\n",
              "CO    100195\n",
              "US     98425\n",
              "EV     81877\n",
              "NW     79108\n",
              "FL     71284\n",
              "YV     67063\n",
              "B6     55315\n",
              "OH     52657\n",
              "9E     51885\n",
              "AS     39293\n",
              "F9     28269\n",
              "HA      7490\n",
              "AQ       750\n",
              "Name: UniqueCarrier, dtype: int64"
            ]
          },
          "metadata": {},
          "execution_count": 21
        }
      ]
    },
    {
      "cell_type": "markdown",
      "source": [
        "Despite there being only 20 unique carriers, WN is the most popular by a large margin of approximately 2X the next carrier (AA). As the carrier column is categorical without an ordinal ranking, it can be binned based on the 'popularity' of an airline which gives an ordinal ranking."
      ],
      "metadata": {
        "id": "7NNUb9WsSLOE"
      }
    },
    {
      "cell_type": "code",
      "source": [
        "def label_carrier(carrier):\n",
        "    if carrier == 'WN':\n",
        "        return 'highly_popular'  # Highly Popular (> 200,000 occurences)\n",
        "    if carrier in ['AA', 'MQ', 'UA', 'OO', 'DL', 'XE', 'CO']:\n",
        "        return 'popular'  # Popular (100,000 - 200,000 occurences)\n",
        "    if carrier in ['US', 'EV', 'NW', 'FL', 'YV', 'B6', 'OH', '9E', 'AS', 'F9', 'HA', 'AQ']:\n",
        "        return 'unpopular'  # Unpopular"
      ],
      "metadata": {
        "id": "5dLKVSCZSIGk"
      },
      "execution_count": null,
      "outputs": []
    },
    {
      "cell_type": "code",
      "source": [
        "df['carrier_popularity'] = df['UniqueCarrier'].apply(lambda x: label_carrier(x))\n",
        "sns.countplot(x='carrier_popularity', data=df, order=df['carrier_popularity'].value_counts().index)\n",
        "plt.show()"
      ],
      "metadata": {
        "colab": {
          "base_uri": "https://localhost:8080/",
          "height": 450
        },
        "id": "WGhGjeQ0SQlH",
        "outputId": "fa990baf-89e6-47d2-a124-31c07daa9de8"
      },
      "execution_count": null,
      "outputs": [
        {
          "output_type": "display_data",
          "data": {
            "text/plain": [
              "<Figure size 640x480 with 1 Axes>"
            ],
            "image/png": "[encoded data removed]"
          },
          "metadata": {}
        }
      ]
    },
    {
      "cell_type": "markdown",
      "source": [
        "There are approximately 2X more unpopular carriers over the most popular carrier, WN."
      ],
      "metadata": {
        "id": "tYHfr-bxSVq7"
      }
    },
    {
      "cell_type": "code",
      "source": [
        "corrmat = df[delay_reason_list].corr()\n",
        "f, ax = plt.subplots(figsize=(5,7))\n",
        "sns.heatmap(corrmat, vmax=.8, square=True, cmap=\"crest\");\n",
        "plt.show()"
      ],
      "metadata": {
        "colab": {
          "base_uri": "https://localhost:8080/",
          "height": 598
        },
        "id": "J6QE2D0uSS8Z",
        "outputId": "42ceec62-a5ea-49d5-91a5-ebe237cbcb1c"
      },
      "execution_count": null,
      "outputs": [
        {
          "output_type": "display_data",
          "data": {
            "text/plain": [
              "<Figure size 500x700 with 2 Axes>"
            ],
            "image/png": "[encoded data removed]"
          },
          "metadata": {}
        }
      ]
    },
    {
      "cell_type": "markdown",
      "source": [
        "The chart above shows a weak correlation."
      ],
      "metadata": {
        "id": "rSP1T6WbSgmS"
      }
    },
    {
      "cell_type": "markdown",
      "source": [
        "**3. PreProcessing**\n",
        "\n",
        "Since we are trying to predict if a flight will be delayed before its departure, we consider features that are only available before departure.\n",
        "\n",
        "Features not used and why:\n",
        "\n",
        "Year: because the dataset is made up completely from 2008.\n",
        "\n",
        "DepTime: actual departure time is unknown before flight boarding.\n",
        "\n",
        "ArrTime: actual arrival time at dest is unknown before flight boarding.\n",
        "\n",
        "ActualElapsedTime: unknown before flight boarding.\n",
        "\n",
        "AirTime: unknown before flight landing.\n",
        "\n",
        "DepDelay: used for target column.\n",
        "\n",
        "ArrDelay: unknown before flight landing.\n",
        "\n",
        "TaxiOut: unknown before flight boarding.\n",
        "\n",
        "Cancelled: unknown before flight check-in, also insignificant data.\n",
        "\n",
        "CancellationCode: same as Cancelled.\n",
        "\n",
        "Diverted: unknown before flight takeoff."
      ],
      "metadata": {
        "id": "D2ZTZYNQSkYw"
      }
    },
    {
      "cell_type": "code",
      "source": [
        "days_in_month = {\n",
        "    1: 31,\n",
        "    2: 29,\n",
        "    3: 31,\n",
        "    4: 30,\n",
        "    5: 30,\n",
        "    6: 30,\n",
        "    7: 31,\n",
        "    8: 31,\n",
        "    9: 30,\n",
        "    10: 31,\n",
        "    11: 30,\n",
        "    12: 31,\n",
        "}"
      ],
      "metadata": {
        "id": "UqTqt0QdSd_x"
      },
      "execution_count": null,
      "outputs": []
    },
    {
      "cell_type": "markdown",
      "source": [
        "The status quo of 15 minutes as the acceptable on-time performance to classify a flight as ‘late’ is widely accepted in the field currently. We aim to identify flights that will cause great distress to all parties involved, thus we have set a threshold of 30 minutes to determine if a flight is delayed."
      ],
      "metadata": {
        "id": "DUL0BbjgTI24"
      }
    },
    {
      "cell_type": "markdown",
      "source": [
        "**3.1 Train Test Split**"
      ],
      "metadata": {
        "id": "P0o7neyOTOoo"
      }
    },
    {
      "cell_type": "code",
      "source": [
        "df_flights['DepDel30'] = np.where(df_flights['DepDelay'] > 30, 1, 0)\n",
        "\n",
        "pre_depart_features = [\n",
        "    'Month', 'DayofMonth', 'DayOfWeek', 'CRSDepTime', 'CRSArrTime', 'UniqueCarrier',\n",
        "    'FlightNum', 'TailNum', 'CRSElapsedTime', 'Origin', 'Dest', 'Distance',\n",
        "    'TaxiIn', 'CarrierDelay', 'WeatherDelay', 'NASDelay', 'SecurityDelay',\n",
        "    'LateAircraftDelay'\n",
        "]\n",
        "\n",
        "# Drop nulls\n",
        "df_flights.dropna(subset=['TailNum', 'CRSElapsedTime'], inplace=True)\n",
        "df_flights = df_flights[df_flights['TailNum'] != 'Unknow']  # Incorrect row\n",
        "\n",
        "X = df_flights[pre_depart_features]\n",
        "y = df_flights['DepDel30']"
      ],
      "metadata": {
        "id": "CzRilNSeTFO3"
      },
      "execution_count": null,
      "outputs": []
    },
    {
      "cell_type": "code",
      "source": [
        "X_train, X_test, y_train, y_test = train_test_split(X, y, test_size=0.3, stratify=y, random_state=123)"
      ],
      "metadata": {
        "id": "n2cEaBi7TW4y"
      },
      "execution_count": null,
      "outputs": []
    },
    {
      "cell_type": "code",
      "source": [
        "print(X_train.shape)\n",
        "print(y_train.shape)"
      ],
      "metadata": {
        "colab": {
          "base_uri": "https://localhost:8080/"
        },
        "id": "byr3sG2-Tagw",
        "outputId": "173cf747-27c5-4cc4-d554-fd78d26b42b4"
      },
      "execution_count": null,
      "outputs": [
        {
          "output_type": "stream",
          "name": "stdout",
          "text": [
            "(1355586, 18)\n",
            "(1355586,)\n"
          ]
        }
      ]
    },
    {
      "cell_type": "code",
      "source": [
        "y_train.value_counts()"
      ],
      "metadata": {
        "colab": {
          "base_uri": "https://localhost:8080/"
        },
        "id": "ippb4mJQTc3b",
        "outputId": "547c0fa3-6f0b-47af-f82b-645ff1e2ac18"
      },
      "execution_count": null,
      "outputs": [
        {
          "output_type": "execute_result",
          "data": {
            "text/plain": [
              "0    785547\n",
              "1    570039\n",
              "Name: DepDel30, dtype: int64"
            ]
          },
          "metadata": {},
          "execution_count": 29
        }
      ]
    },
    {
      "cell_type": "markdown",
      "source": [
        "Label = 1 is categorised as a delayed flight with an actual departure time of 30 minutes greater than the scheduled departure time. From the training data, it can be observed that there are more 'not delayed' flights. There is no drastic class imbalance present, albeit some. Thus we will consider using the 'balanced' hyperparameter for model training."
      ],
      "metadata": {
        "id": "DC2DCPXPTjdu"
      }
    },
    {
      "cell_type": "markdown",
      "source": [
        "**3.2 Train dataset exploration**\n",
        "for quantile thresholds for binning\n",
        "\n",
        "**3.2.1 Carrier by popularity**\n",
        "This feature will be hardcoded based on the quantile information by counts in the training dataset."
      ],
      "metadata": {
        "id": "Kf13h-XzTozF"
      }
    },
    {
      "cell_type": "code",
      "source": [
        "X_train_temp = X_train.copy()"
      ],
      "metadata": {
        "id": "nNSpqpJXTgCg"
      },
      "execution_count": null,
      "outputs": []
    },
    {
      "cell_type": "code",
      "source": [
        "X_train_temp['UniqueCarrier'].value_counts()"
      ],
      "metadata": {
        "colab": {
          "base_uri": "https://localhost:8080/"
        },
        "id": "jM91IoqoT2D3",
        "outputId": "f9dd1bd0-7fb6-4ddb-d364-2c55ac5c7c11"
      },
      "execution_count": null,
      "outputs": [
        {
          "output_type": "execute_result",
          "data": {
            "text/plain": [
              "WN    264867\n",
              "AA    134275\n",
              "MQ     99329\n",
              "UA     98769\n",
              "OO     92647\n",
              "DL     79932\n",
              "XE     72717\n",
              "CO     69831\n",
              "US     68934\n",
              "EV     57344\n",
              "NW     55385\n",
              "FL     49879\n",
              "YV     47164\n",
              "B6     38682\n",
              "OH     36794\n",
              "9E     36181\n",
              "AS     27353\n",
              "F9     19677\n",
              "HA      5294\n",
              "AQ       532\n",
              "Name: UniqueCarrier, dtype: int64"
            ]
          },
          "metadata": {},
          "execution_count": 31
        }
      ]
    },
    {
      "cell_type": "code",
      "source": [
        "X_train_temp['UniqueCarrier'].value_counts().quantile([.25, .5, .75], interpolation='nearest')"
      ],
      "metadata": {
        "colab": {
          "base_uri": "https://localhost:8080/"
        },
        "id": "uyPqZQQfT4kj",
        "outputId": "94b81dbf-a176-488a-db63-e15c6432a748"
      },
      "execution_count": null,
      "outputs": [
        {
          "output_type": "execute_result",
          "data": {
            "text/plain": [
              "0.25    36794\n",
              "0.50    57344\n",
              "0.75    79932\n",
              "Name: UniqueCarrier, dtype: int64"
            ]
          },
          "metadata": {},
          "execution_count": 32
        }
      ]
    },
    {
      "cell_type": "code",
      "source": [
        "def label_carrier_train(carrier):\n",
        "    if carrier in ['WN', 'AA', 'MQ', 'UA', 'OO']:\n",
        "        return 'popular'\n",
        "    if carrier in ['DL', 'XE', 'CO', 'US', 'EV', 'NW', 'FL', 'YV', 'B6']:\n",
        "        return 'average'\n",
        "    if carrier in ['OH', '9E', 'AS', 'F9', 'HA', 'AQ']:\n",
        "        return 'unpopular'"
      ],
      "metadata": {
        "id": "2VlC6zY_T8In"
      },
      "execution_count": null,
      "outputs": []
    },
    {
      "cell_type": "code",
      "source": [
        "X_train_temp['carrier_popularity'] = X_train_temp['UniqueCarrier'].apply(lambda x: label_carrier_train(x))\n",
        "sns.countplot(x='carrier_popularity', data=X_train_temp, order=X_train_temp['carrier_popularity'].value_counts().index)\n",
        "plt.show()"
      ],
      "metadata": {
        "colab": {
          "base_uri": "https://localhost:8080/",
          "height": 450
        },
        "id": "As1e3gohT-hA",
        "outputId": "ea4b9d71-afa8-49fe-d8f0-c7030679e5da"
      },
      "execution_count": null,
      "outputs": [
        {
          "output_type": "display_data",
          "data": {
            "text/plain": [
              "<Figure size 640x480 with 1 Axes>"
            ],
            "image/png": "[encoded data removed]"
          },
          "metadata": {}
        }
      ]
    },
    {
      "cell_type": "markdown",
      "source": [
        "We are able to capture the trends of the carriers' usages"
      ],
      "metadata": {
        "id": "bQtule23UESa"
      }
    },
    {
      "cell_type": "markdown",
      "source": [
        "**3.2.2 Origin, Dest**\n",
        "Create airport type column based on iata_code of airport. This new column will be one-hot encoded"
      ],
      "metadata": {
        "id": "PWmSM9cYUOYx"
      }
    },
    {
      "cell_type": "code",
      "source": [
        "def bin_airport(df, left_col='Origin'):\n",
        "    df = df.copy()\n",
        "    codes_airports_types = pd.read_csv('/content/code_airport_type.csv', index_col='iata_code')\n",
        "\n",
        "    df = df.merge(codes_airports_types, left_on=left_col, right_on='iata_code', how='left')\n",
        "    df.rename({'type': left_col+'_airport_type'}, axis=1, inplace=True)\n",
        "\n",
        "    return df"
      ],
      "metadata": {
        "id": "0JyKeCAOUAwl"
      },
      "execution_count": null,
      "outputs": []
    },
    {
      "cell_type": "markdown",
      "source": [
        "Using the mean departure delay minutes for the originating airport, a mean arrival delay for the destination airport and hardcoding these values may lead to more intricate aspects of the data."
      ],
      "metadata": {
        "id": "XnaS1V_9UWc1"
      }
    },
    {
      "cell_type": "code",
      "source": [
        "train_idx = X_train.index\n",
        "df_train_idx = df[df.index.isin(train_idx)]\n",
        "df_train_idx.head(5)"
      ],
      "metadata": {
        "colab": {
          "base_uri": "https://localhost:8080/",
          "height": 270
        },
        "id": "5EHI3hKpUUH6",
        "outputId": "dd5028be-45e0-4f31-974d-8956fa36fe90"
      },
      "execution_count": null,
      "outputs": [
        {
          "output_type": "execute_result",
          "data": {
            "text/plain": [
              "   Year  Month  DayofMonth  DayOfWeek  DepTime  CRSDepTime  ArrTime  \\\n",
              "0  2008      1           3          4   2003.0        1955   2211.0   \n",
              "1  2008      1           3          4    754.0         735   1002.0   \n",
              "2  2008      1           3          4    628.0         620    804.0   \n",
              "3  2008      1           3          4   1829.0        1755   1959.0   \n",
              "4  2008      1           3          4   1940.0        1915   2121.0   \n",
              "\n",
              "   CRSArrTime UniqueCarrier  FlightNum TailNum  ActualElapsedTime  \\\n",
              "0        2225            WN        335  N712SW              128.0   \n",
              "1        1000            WN       3231  N772SW              128.0   \n",
              "2         750            WN        448  N428WN               96.0   \n",
              "3        1925            WN       3920  N464WN               90.0   \n",
              "4        2110            WN        378  N726SW              101.0   \n",
              "\n",
              "   CRSElapsedTime  AirTime  ArrDelay  DepDelay Origin Dest  Distance  TaxiIn  \\\n",
              "0           150.0    116.0     -14.0       8.0    IAD  TPA       810     4.0   \n",
              "1           145.0    113.0       2.0      19.0    IAD  TPA       810     5.0   \n",
              "2            90.0     76.0      14.0       8.0    IND  BWI       515     3.0   \n",
              "3            90.0     77.0      34.0      34.0    IND  BWI       515     3.0   \n",
              "4           115.0     87.0      11.0      25.0    IND  JAX       688     4.0   \n",
              "\n",
              "   TaxiOut  Cancelled CancellationCode  Diverted  CarrierDelay  WeatherDelay  \\\n",
              "0      8.0          0                N         0           NaN           NaN   \n",
              "1     10.0          0                N         0           NaN           NaN   \n",
              "2     17.0          0                N         0           NaN           NaN   \n",
              "3     10.0          0                N         0           2.0           0.0   \n",
              "4     10.0          0                N         0           NaN           NaN   \n",
              "\n",
              "   NASDelay  SecurityDelay  LateAircraftDelay FlightDate  DepDel15  ArrDel15  \\\n",
              "0       NaN            NaN                NaN 2008-01-03         0         0   \n",
              "1       NaN            NaN                NaN 2008-01-03         1         0   \n",
              "2       NaN            NaN                NaN 2008-01-03         0         0   \n",
              "3       0.0            0.0               32.0 2008-01-03         1         1   \n",
              "4       NaN            NaN                NaN 2008-01-03         1         0   \n",
              "\n",
              "   DepDel30 carrier_popularity  \n",
              "0         0     highly_popular  \n",
              "1         0     highly_popular  \n",
              "2         0     highly_popular  \n",
              "3         1     highly_popular  \n",
              "4         0     highly_popular  "
            ],
            "text/html": [
              "\n",
              "  <div id=\"df-37bfca1f-8a97-4bd8-b70c-d4f607cb74f9\">\n",
              "    <div class=\"colab-df-container\">\n",
              "      <div>\n",
              "<style scoped>\n",
              "    .dataframe tbody tr th:only-of-type {\n",
              "        vertical-align: middle;\n",
              "    }\n",
              "\n",
              "    .dataframe tbody tr th {\n",
              "        vertical-align: top;\n",
              "    }\n",
              "\n",
              "    .dataframe thead th {\n",
              "        text-align: right;\n",
              "    }\n",
              "</style>\n",
              "<table border=\"1\" class=\"dataframe\">\n",
              "  <thead>\n",
              "    <tr style=\"text-align: right;\">\n",
              "      <th></th>\n",
              "      <th>Year</th>\n",
              "      <th>Month</th>\n",
              "      <th>DayofMonth</th>\n",
              "      <th>DayOfWeek</th>\n",
              "      <th>DepTime</th>\n",
              "      <th>CRSDepTime</th>\n",
              "      <th>ArrTime</th>\n",
              "      <th>CRSArrTime</th>\n",
              "      <th>UniqueCarrier</th>\n",
              "      <th>FlightNum</th>\n",
              "      <th>TailNum</th>\n",
              "      <th>ActualElapsedTime</th>\n",
              "      <th>CRSElapsedTime</th>\n",
              "      <th>AirTime</th>\n",
              "      <th>ArrDelay</th>\n",
              "      <th>DepDelay</th>\n",
              "      <th>Origin</th>\n",
              "      <th>Dest</th>\n",
              "      <th>Distance</th>\n",
              "      <th>TaxiIn</th>\n",
              "      <th>TaxiOut</th>\n",
              "      <th>Cancelled</th>\n",
              "      <th>CancellationCode</th>\n",
              "      <th>Diverted</th>\n",
              "      <th>CarrierDelay</th>\n",
              "      <th>WeatherDelay</th>\n",
              "      <th>NASDelay</th>\n",
              "      <th>SecurityDelay</th>\n",
              "      <th>LateAircraftDelay</th>\n",
              "      <th>FlightDate</th>\n",
              "      <th>DepDel15</th>\n",
              "      <th>ArrDel15</th>\n",
              "      <th>DepDel30</th>\n",
              "      <th>carrier_popularity</th>\n",
              "    </tr>\n",
              "  </thead>\n",
              "  <tbody>\n",
              "    <tr>\n",
              "      <th>0</th>\n",
              "      <td>2008</td>\n",
              "      <td>1</td>\n",
              "      <td>3</td>\n",
              "      <td>4</td>\n",
              "      <td>2003.0</td>\n",
              "      <td>1955</td>\n",
              "      <td>2211.0</td>\n",
              "      <td>2225</td>\n",
              "      <td>WN</td>\n",
              "      <td>335</td>\n",
              "      <td>N712SW</td>\n",
              "      <td>128.0</td>\n",
              "      <td>150.0</td>\n",
              "      <td>116.0</td>\n",
              "      <td>-14.0</td>\n",
              "      <td>8.0</td>\n",
              "      <td>IAD</td>\n",
              "      <td>TPA</td>\n",
              "      <td>810</td>\n",
              "      <td>4.0</td>\n",
              "      <td>8.0</td>\n",
              "      <td>0</td>\n",
              "      <td>N</td>\n",
              "      <td>0</td>\n",
              "      <td>NaN</td>\n",
              "      <td>NaN</td>\n",
              "      <td>NaN</td>\n",
              "      <td>NaN</td>\n",
              "      <td>NaN</td>\n",
              "      <td>2008-01-03</td>\n",
              "      <td>0</td>\n",
              "      <td>0</td>\n",
              "      <td>0</td>\n",
              "      <td>highly_popular</td>\n",
              "    </tr>\n",
              "    <tr>\n",
              "      <th>1</th>\n",
              "      <td>2008</td>\n",
              "      <td>1</td>\n",
              "      <td>3</td>\n",
              "      <td>4</td>\n",
              "      <td>754.0</td>\n",
              "      <td>735</td>\n",
              "      <td>1002.0</td>\n",
              "      <td>1000</td>\n",
              "      <td>WN</td>\n",
              "      <td>3231</td>\n",
              "      <td>N772SW</td>\n",
              "      <td>128.0</td>\n",
              "      <td>145.0</td>\n",
              "      <td>113.0</td>\n",
              "      <td>2.0</td>\n",
              "      <td>19.0</td>\n",
              "      <td>IAD</td>\n",
              "      <td>TPA</td>\n",
              "      <td>810</td>\n",
              "      <td>5.0</td>\n",
              "      <td>10.0</td>\n",
              "      <td>0</td>\n",
              "      <td>N</td>\n",
              "      <td>0</td>\n",
              "      <td>NaN</td>\n",
              "      <td>NaN</td>\n",
              "      <td>NaN</td>\n",
              "      <td>NaN</td>\n",
              "      <td>NaN</td>\n",
              "      <td>2008-01-03</td>\n",
              "      <td>1</td>\n",
              "      <td>0</td>\n",
              "      <td>0</td>\n",
              "      <td>highly_popular</td>\n",
              "    </tr>\n",
              "    <tr>\n",
              "      <th>2</th>\n",
              "      <td>2008</td>\n",
              "      <td>1</td>\n",
              "      <td>3</td>\n",
              "      <td>4</td>\n",
              "      <td>628.0</td>\n",
              "      <td>620</td>\n",
              "      <td>804.0</td>\n",
              "      <td>750</td>\n",
              "      <td>WN</td>\n",
              "      <td>448</td>\n",
              "      <td>N428WN</td>\n",
              "      <td>96.0</td>\n",
              "      <td>90.0</td>\n",
              "      <td>76.0</td>\n",
              "      <td>14.0</td>\n",
              "      <td>8.0</td>\n",
              "      <td>IND</td>\n",
              "      <td>BWI</td>\n",
              "      <td>515</td>\n",
              "      <td>3.0</td>\n",
              "      <td>17.0</td>\n",
              "      <td>0</td>\n",
              "      <td>N</td>\n",
              "      <td>0</td>\n",
              "      <td>NaN</td>\n",
              "      <td>NaN</td>\n",
              "      <td>NaN</td>\n",
              "      <td>NaN</td>\n",
              "      <td>NaN</td>\n",
              "      <td>2008-01-03</td>\n",
              "      <td>0</td>\n",
              "      <td>0</td>\n",
              "      <td>0</td>\n",
              "      <td>highly_popular</td>\n",
              "    </tr>\n",
              "    <tr>\n",
              "      <th>3</th>\n",
              "      <td>2008</td>\n",
              "      <td>1</td>\n",
              "      <td>3</td>\n",
              "      <td>4</td>\n",
              "      <td>1829.0</td>\n",
              "      <td>1755</td>\n",
              "      <td>1959.0</td>\n",
              "      <td>1925</td>\n",
              "      <td>WN</td>\n",
              "      <td>3920</td>\n",
              "      <td>N464WN</td>\n",
              "      <td>90.0</td>\n",
              "      <td>90.0</td>\n",
              "      <td>77.0</td>\n",
              "      <td>34.0</td>\n",
              "      <td>34.0</td>\n",
              "      <td>IND</td>\n",
              "      <td>BWI</td>\n",
              "      <td>515</td>\n",
              "      <td>3.0</td>\n",
              "      <td>10.0</td>\n",
              "      <td>0</td>\n",
              "      <td>N</td>\n",
              "      <td>0</td>\n",
              "      <td>2.0</td>\n",
              "      <td>0.0</td>\n",
              "      <td>0.0</td>\n",
              "      <td>0.0</td>\n",
              "      <td>32.0</td>\n",
              "      <td>2008-01-03</td>\n",
              "      <td>1</td>\n",
              "      <td>1</td>\n",
              "      <td>1</td>\n",
              "      <td>highly_popular</td>\n",
              "    </tr>\n",
              "    <tr>\n",
              "      <th>4</th>\n",
              "      <td>2008</td>\n",
              "      <td>1</td>\n",
              "      <td>3</td>\n",
              "      <td>4</td>\n",
              "      <td>1940.0</td>\n",
              "      <td>1915</td>\n",
              "      <td>2121.0</td>\n",
              "      <td>2110</td>\n",
              "      <td>WN</td>\n",
              "      <td>378</td>\n",
              "      <td>N726SW</td>\n",
              "      <td>101.0</td>\n",
              "      <td>115.0</td>\n",
              "      <td>87.0</td>\n",
              "      <td>11.0</td>\n",
              "      <td>25.0</td>\n",
              "      <td>IND</td>\n",
              "      <td>JAX</td>\n",
              "      <td>688</td>\n",
              "      <td>4.0</td>\n",
              "      <td>10.0</td>\n",
              "      <td>0</td>\n",
              "      <td>N</td>\n",
              "      <td>0</td>\n",
              "      <td>NaN</td>\n",
              "      <td>NaN</td>\n",
              "      <td>NaN</td>\n",
              "      <td>NaN</td>\n",
              "      <td>NaN</td>\n",
              "      <td>2008-01-03</td>\n",
              "      <td>1</td>\n",
              "      <td>0</td>\n",
              "      <td>0</td>\n",
              "      <td>highly_popular</td>\n",
              "    </tr>\n",
              "  </tbody>\n",
              "</table>\n",
              "</div>\n",
              "      <button class=\"colab-df-convert\" onclick=\"convertToInteractive('df-37bfca1f-8a97-4bd8-b70c-d4f607cb74f9')\"\n",
              "              title=\"Convert this dataframe to an interactive table.\"\n",
              "              style=\"display:none;\">\n",
              "        \n",
              "  <svg xmlns=\"http://www.w3.org/2000/svg\" height=\"24px\"viewBox=\"0 0 24 24\"\n",
              "       width=\"24px\">\n",
              "    <path d=\"M0 0h24v24H0V0z\" fill=\"none\"/>\n",
              "    <path d=\"M18.56 5.44l.94 2.06.94-2.06 2.06-.94-2.06-.94-.94-2.06-.94 2.06-2.06.94zm-11 1L8.5 8.5l.94-2.06 2.06-.94-2.06-.94L8.5 2.5l-.94 2.06-2.06.94zm10 10l.94 2.06.94-2.06 2.06-.94-2.06-.94-.94-2.06-.94 2.06-2.06.94z\"/><path d=\"M17.41 7.96l-1.37-1.37c-.4-.4-.92-.59-1.43-.59-.52 0-1.04.2-1.43.59L10.3 9.45l-7.72 7.72c-.78.78-.78 2.05 0 2.83L4 21.41c.39.39.9.59 1.41.59.51 0 1.02-.2 1.41-.59l7.78-7.78 2.81-2.81c.8-.78.8-2.07 0-2.86zM5.41 20L4 18.59l7.72-7.72 1.47 1.35L5.41 20z\"/>\n",
              "  </svg>\n",
              "      </button>\n",
              "      \n",
              "  <style>\n",
              "    .colab-df-container {\n",
              "      display:flex;\n",
              "      flex-wrap:wrap;\n",
              "      gap: 12px;\n",
              "    }\n",
              "\n",
              "    .colab-df-convert {\n",
              "      background-color: #E8F0FE;\n",
              "      border: none;\n",
              "      border-radius: 50%;\n",
              "      cursor: pointer;\n",
              "      display: none;\n",
              "      fill: #1967D2;\n",
              "      height: 32px;\n",
              "      padding: 0 0 0 0;\n",
              "      width: 32px;\n",
              "    }\n",
              "\n",
              "    .colab-df-convert:hover {\n",
              "      background-color: #E2EBFA;\n",
              "      box-shadow: 0px 1px 2px rgba(60, 64, 67, 0.3), 0px 1px 3px 1px rgba(60, 64, 67, 0.15);\n",
              "      fill: #174EA6;\n",
              "    }\n",
              "\n",
              "    [theme=dark] .colab-df-convert {\n",
              "      background-color: #3B4455;\n",
              "      fill: #D2E3FC;\n",
              "    }\n",
              "\n",
              "    [theme=dark] .colab-df-convert:hover {\n",
              "      background-color: #434B5C;\n",
              "      box-shadow: 0px 1px 3px 1px rgba(0, 0, 0, 0.15);\n",
              "      filter: drop-shadow(0px 1px 2px rgba(0, 0, 0, 0.3));\n",
              "      fill: #FFFFFF;\n",
              "    }\n",
              "  </style>\n",
              "\n",
              "      <script>\n",
              "        const buttonEl =\n",
              "          document.querySelector('#df-37bfca1f-8a97-4bd8-b70c-d4f607cb74f9 button.colab-df-convert');\n",
              "        buttonEl.style.display =\n",
              "          google.colab.kernel.accessAllowed ? 'block' : 'none';\n",
              "\n",
              "        async function convertToInteractive(key) {\n",
              "          const element = document.querySelector('#df-37bfca1f-8a97-4bd8-b70c-d4f607cb74f9');\n",
              "          const dataTable =\n",
              "            await google.colab.kernel.invokeFunction('convertToInteractive',\n",
              "                                                     [key], {});\n",
              "          if (!dataTable) return;\n",
              "\n",
              "          const docLinkHtml = 'Like what you see? Visit the ' +\n",
              "            '<a target=\"_blank\" href=https://colab.research.google.com/notebooks/data_table.ipynb>data table notebook</a>'\n",
              "            + ' to learn more about interactive tables.';\n",
              "          element.innerHTML = '';\n",
              "          dataTable['output_type'] = 'display_data';\n",
              "          await google.colab.output.renderOutput(dataTable, element);\n",
              "          const docLink = document.createElement('div');\n",
              "          docLink.innerHTML = docLinkHtml;\n",
              "          element.appendChild(docLink);\n",
              "        }\n",
              "      </script>\n",
              "    </div>\n",
              "  </div>\n",
              "  "
            ]
          },
          "metadata": {},
          "execution_count": 36
        }
      ]
    },
    {
      "cell_type": "code",
      "source": [
        "origin_avg_time = df_train_idx.groupby('Origin')['DepDelay'].mean().rename('origin_mean_DepDelay')\n",
        "origin_avg_time.to_csv('/content/origin_avg_time.csv')"
      ],
      "metadata": {
        "id": "68iSvVXRUiLY"
      },
      "execution_count": null,
      "outputs": []
    },
    {
      "cell_type": "code",
      "source": [
        "origin_avg_time = pd.read_csv('/content/origin_avg_time.csv')\n",
        "origin_avg_time"
      ],
      "metadata": {
        "colab": {
          "base_uri": "https://localhost:8080/",
          "height": 423
        },
        "id": "vY5wvq69Um4E",
        "outputId": "6df6255b-7644-4119-fdd5-61dddfc3f1ac"
      },
      "execution_count": null,
      "outputs": [
        {
          "output_type": "execute_result",
          "data": {
            "text/plain": [
              "    Origin  origin_mean_DepDelay\n",
              "0      ABE             60.398256\n",
              "1      ABI             68.381625\n",
              "2      ABQ             36.716700\n",
              "3      ABY             47.769634\n",
              "4      ACK             58.527559\n",
              "..     ...                   ...\n",
              "298    WYS             23.000000\n",
              "299    XNA             54.783912\n",
              "300    YAK             58.927152\n",
              "301    YKM             20.200000\n",
              "302    YUM             36.411765\n",
              "\n",
              "[303 rows x 2 columns]"
            ],
            "text/html": [
              "\n",
              "  <div id=\"df-c25aff72-d0ab-465a-a1bc-edd5b119ea9a\">\n",
              "    <div class=\"colab-df-container\">\n",
              "      <div>\n",
              "<style scoped>\n",
              "    .dataframe tbody tr th:only-of-type {\n",
              "        vertical-align: middle;\n",
              "    }\n",
              "\n",
              "    .dataframe tbody tr th {\n",
              "        vertical-align: top;\n",
              "    }\n",
              "\n",
              "    .dataframe thead th {\n",
              "        text-align: right;\n",
              "    }\n",
              "</style>\n",
              "<table border=\"1\" class=\"dataframe\">\n",
              "  <thead>\n",
              "    <tr style=\"text-align: right;\">\n",
              "      <th></th>\n",
              "      <th>Origin</th>\n",
              "      <th>origin_mean_DepDelay</th>\n",
              "    </tr>\n",
              "  </thead>\n",
              "  <tbody>\n",
              "    <tr>\n",
              "      <th>0</th>\n",
              "      <td>ABE</td>\n",
              "      <td>60.398256</td>\n",
              "    </tr>\n",
              "    <tr>\n",
              "      <th>1</th>\n",
              "      <td>ABI</td>\n",
              "      <td>68.381625</td>\n",
              "    </tr>\n",
              "    <tr>\n",
              "      <th>2</th>\n",
              "      <td>ABQ</td>\n",
              "      <td>36.716700</td>\n",
              "    </tr>\n",
              "    <tr>\n",
              "      <th>3</th>\n",
              "      <td>ABY</td>\n",
              "      <td>47.769634</td>\n",
              "    </tr>\n",
              "    <tr>\n",
              "      <th>4</th>\n",
              "      <td>ACK</td>\n",
              "      <td>58.527559</td>\n",
              "    </tr>\n",
              "    <tr>\n",
              "      <th>...</th>\n",
              "      <td>...</td>\n",
              "      <td>...</td>\n",
              "    </tr>\n",
              "    <tr>\n",
              "      <th>298</th>\n",
              "      <td>WYS</td>\n",
              "      <td>23.000000</td>\n",
              "    </tr>\n",
              "    <tr>\n",
              "      <th>299</th>\n",
              "      <td>XNA</td>\n",
              "      <td>54.783912</td>\n",
              "    </tr>\n",
              "    <tr>\n",
              "      <th>300</th>\n",
              "      <td>YAK</td>\n",
              "      <td>58.927152</td>\n",
              "    </tr>\n",
              "    <tr>\n",
              "      <th>301</th>\n",
              "      <td>YKM</td>\n",
              "      <td>20.200000</td>\n",
              "    </tr>\n",
              "    <tr>\n",
              "      <th>302</th>\n",
              "      <td>YUM</td>\n",
              "      <td>36.411765</td>\n",
              "    </tr>\n",
              "  </tbody>\n",
              "</table>\n",
              "<p>303 rows × 2 columns</p>\n",
              "</div>\n",
              "      <button class=\"colab-df-convert\" onclick=\"convertToInteractive('df-c25aff72-d0ab-465a-a1bc-edd5b119ea9a')\"\n",
              "              title=\"Convert this dataframe to an interactive table.\"\n",
              "              style=\"display:none;\">\n",
              "        \n",
              "  <svg xmlns=\"http://www.w3.org/2000/svg\" height=\"24px\"viewBox=\"0 0 24 24\"\n",
              "       width=\"24px\">\n",
              "    <path d=\"M0 0h24v24H0V0z\" fill=\"none\"/>\n",
              "    <path d=\"M18.56 5.44l.94 2.06.94-2.06 2.06-.94-2.06-.94-.94-2.06-.94 2.06-2.06.94zm-11 1L8.5 8.5l.94-2.06 2.06-.94-2.06-.94L8.5 2.5l-.94 2.06-2.06.94zm10 10l.94 2.06.94-2.06 2.06-.94-2.06-.94-.94-2.06-.94 2.06-2.06.94z\"/><path d=\"M17.41 7.96l-1.37-1.37c-.4-.4-.92-.59-1.43-.59-.52 0-1.04.2-1.43.59L10.3 9.45l-7.72 7.72c-.78.78-.78 2.05 0 2.83L4 21.41c.39.39.9.59 1.41.59.51 0 1.02-.2 1.41-.59l7.78-7.78 2.81-2.81c.8-.78.8-2.07 0-2.86zM5.41 20L4 18.59l7.72-7.72 1.47 1.35L5.41 20z\"/>\n",
              "  </svg>\n",
              "      </button>\n",
              "      \n",
              "  <style>\n",
              "    .colab-df-container {\n",
              "      display:flex;\n",
              "      flex-wrap:wrap;\n",
              "      gap: 12px;\n",
              "    }\n",
              "\n",
              "    .colab-df-convert {\n",
              "      background-color: #E8F0FE;\n",
              "      border: none;\n",
              "      border-radius: 50%;\n",
              "      cursor: pointer;\n",
              "      display: none;\n",
              "      fill: #1967D2;\n",
              "      height: 32px;\n",
              "      padding: 0 0 0 0;\n",
              "      width: 32px;\n",
              "    }\n",
              "\n",
              "    .colab-df-convert:hover {\n",
              "      background-color: #E2EBFA;\n",
              "      box-shadow: 0px 1px 2px rgba(60, 64, 67, 0.3), 0px 1px 3px 1px rgba(60, 64, 67, 0.15);\n",
              "      fill: #174EA6;\n",
              "    }\n",
              "\n",
              "    [theme=dark] .colab-df-convert {\n",
              "      background-color: #3B4455;\n",
              "      fill: #D2E3FC;\n",
              "    }\n",
              "\n",
              "    [theme=dark] .colab-df-convert:hover {\n",
              "      background-color: #434B5C;\n",
              "      box-shadow: 0px 1px 3px 1px rgba(0, 0, 0, 0.15);\n",
              "      filter: drop-shadow(0px 1px 2px rgba(0, 0, 0, 0.3));\n",
              "      fill: #FFFFFF;\n",
              "    }\n",
              "  </style>\n",
              "\n",
              "      <script>\n",
              "        const buttonEl =\n",
              "          document.querySelector('#df-c25aff72-d0ab-465a-a1bc-edd5b119ea9a button.colab-df-convert');\n",
              "        buttonEl.style.display =\n",
              "          google.colab.kernel.accessAllowed ? 'block' : 'none';\n",
              "\n",
              "        async function convertToInteractive(key) {\n",
              "          const element = document.querySelector('#df-c25aff72-d0ab-465a-a1bc-edd5b119ea9a');\n",
              "          const dataTable =\n",
              "            await google.colab.kernel.invokeFunction('convertToInteractive',\n",
              "                                                     [key], {});\n",
              "          if (!dataTable) return;\n",
              "\n",
              "          const docLinkHtml = 'Like what you see? Visit the ' +\n",
              "            '<a target=\"_blank\" href=https://colab.research.google.com/notebooks/data_table.ipynb>data table notebook</a>'\n",
              "            + ' to learn more about interactive tables.';\n",
              "          element.innerHTML = '';\n",
              "          dataTable['output_type'] = 'display_data';\n",
              "          await google.colab.output.renderOutput(dataTable, element);\n",
              "          const docLink = document.createElement('div');\n",
              "          docLink.innerHTML = docLinkHtml;\n",
              "          element.appendChild(docLink);\n",
              "        }\n",
              "      </script>\n",
              "    </div>\n",
              "  </div>\n",
              "  "
            ]
          },
          "metadata": {},
          "execution_count": 38
        }
      ]
    },
    {
      "cell_type": "code",
      "source": [
        "dest_avg_time = df_train_idx.groupby('Dest')['ArrDelay'].mean().rename('dest_mean_ArrDelay')\n",
        "dest_avg_time.to_csv('/content/dest_avg_time.csv')"
      ],
      "metadata": {
        "id": "dJIYkorEUqP1"
      },
      "execution_count": null,
      "outputs": []
    },
    {
      "cell_type": "code",
      "source": [
        "dest_avg_time = pd.read_csv('/content/dest_avg_time.csv')\n",
        "dest_avg_time"
      ],
      "metadata": {
        "colab": {
          "base_uri": "https://localhost:8080/",
          "height": 423
        },
        "id": "kcuK1PDpUtdR",
        "outputId": "be181d71-893f-4a87-b5a4-1f4c6469756d"
      },
      "execution_count": null,
      "outputs": [
        {
          "output_type": "execute_result",
          "data": {
            "text/plain": [
              "    Dest  dest_mean_ArrDelay\n",
              "0    ABE           48.322757\n",
              "1    ABI           35.440594\n",
              "2    ABQ           32.298109\n",
              "3    ABY           48.792208\n",
              "4    ACK           55.027778\n",
              "..   ...                 ...\n",
              "299  WYS           20.882353\n",
              "300  XNA           47.155003\n",
              "301  YAK           52.357143\n",
              "302  YKM           26.918919\n",
              "303  YUM           36.114790\n",
              "\n",
              "[304 rows x 2 columns]"
            ],
            "text/html": [
              "\n",
              "  <div id=\"df-9e0727b5-c9b6-47c2-98c6-f9ec19ba7f1d\">\n",
              "    <div class=\"colab-df-container\">\n",
              "      <div>\n",
              "<style scoped>\n",
              "    .dataframe tbody tr th:only-of-type {\n",
              "        vertical-align: middle;\n",
              "    }\n",
              "\n",
              "    .dataframe tbody tr th {\n",
              "        vertical-align: top;\n",
              "    }\n",
              "\n",
              "    .dataframe thead th {\n",
              "        text-align: right;\n",
              "    }\n",
              "</style>\n",
              "<table border=\"1\" class=\"dataframe\">\n",
              "  <thead>\n",
              "    <tr style=\"text-align: right;\">\n",
              "      <th></th>\n",
              "      <th>Dest</th>\n",
              "      <th>dest_mean_ArrDelay</th>\n",
              "    </tr>\n",
              "  </thead>\n",
              "  <tbody>\n",
              "    <tr>\n",
              "      <th>0</th>\n",
              "      <td>ABE</td>\n",
              "      <td>48.322757</td>\n",
              "    </tr>\n",
              "    <tr>\n",
              "      <th>1</th>\n",
              "      <td>ABI</td>\n",
              "      <td>35.440594</td>\n",
              "    </tr>\n",
              "    <tr>\n",
              "      <th>2</th>\n",
              "      <td>ABQ</td>\n",
              "      <td>32.298109</td>\n",
              "    </tr>\n",
              "    <tr>\n",
              "      <th>3</th>\n",
              "      <td>ABY</td>\n",
              "      <td>48.792208</td>\n",
              "    </tr>\n",
              "    <tr>\n",
              "      <th>4</th>\n",
              "      <td>ACK</td>\n",
              "      <td>55.027778</td>\n",
              "    </tr>\n",
              "    <tr>\n",
              "      <th>...</th>\n",
              "      <td>...</td>\n",
              "      <td>...</td>\n",
              "    </tr>\n",
              "    <tr>\n",
              "      <th>299</th>\n",
              "      <td>WYS</td>\n",
              "      <td>20.882353</td>\n",
              "    </tr>\n",
              "    <tr>\n",
              "      <th>300</th>\n",
              "      <td>XNA</td>\n",
              "      <td>47.155003</td>\n",
              "    </tr>\n",
              "    <tr>\n",
              "      <th>301</th>\n",
              "      <td>YAK</td>\n",
              "      <td>52.357143</td>\n",
              "    </tr>\n",
              "    <tr>\n",
              "      <th>302</th>\n",
              "      <td>YKM</td>\n",
              "      <td>26.918919</td>\n",
              "    </tr>\n",
              "    <tr>\n",
              "      <th>303</th>\n",
              "      <td>YUM</td>\n",
              "      <td>36.114790</td>\n",
              "    </tr>\n",
              "  </tbody>\n",
              "</table>\n",
              "<p>304 rows × 2 columns</p>\n",
              "</div>\n",
              "      <button class=\"colab-df-convert\" onclick=\"convertToInteractive('df-9e0727b5-c9b6-47c2-98c6-f9ec19ba7f1d')\"\n",
              "              title=\"Convert this dataframe to an interactive table.\"\n",
              "              style=\"display:none;\">\n",
              "        \n",
              "  <svg xmlns=\"http://www.w3.org/2000/svg\" height=\"24px\"viewBox=\"0 0 24 24\"\n",
              "       width=\"24px\">\n",
              "    <path d=\"M0 0h24v24H0V0z\" fill=\"none\"/>\n",
              "    <path d=\"M18.56 5.44l.94 2.06.94-2.06 2.06-.94-2.06-.94-.94-2.06-.94 2.06-2.06.94zm-11 1L8.5 8.5l.94-2.06 2.06-.94-2.06-.94L8.5 2.5l-.94 2.06-2.06.94zm10 10l.94 2.06.94-2.06 2.06-.94-2.06-.94-.94-2.06-.94 2.06-2.06.94z\"/><path d=\"M17.41 7.96l-1.37-1.37c-.4-.4-.92-.59-1.43-.59-.52 0-1.04.2-1.43.59L10.3 9.45l-7.72 7.72c-.78.78-.78 2.05 0 2.83L4 21.41c.39.39.9.59 1.41.59.51 0 1.02-.2 1.41-.59l7.78-7.78 2.81-2.81c.8-.78.8-2.07 0-2.86zM5.41 20L4 18.59l7.72-7.72 1.47 1.35L5.41 20z\"/>\n",
              "  </svg>\n",
              "      </button>\n",
              "      \n",
              "  <style>\n",
              "    .colab-df-container {\n",
              "      display:flex;\n",
              "      flex-wrap:wrap;\n",
              "      gap: 12px;\n",
              "    }\n",
              "\n",
              "    .colab-df-convert {\n",
              "      background-color: #E8F0FE;\n",
              "      border: none;\n",
              "      border-radius: 50%;\n",
              "      cursor: pointer;\n",
              "      display: none;\n",
              "      fill: #1967D2;\n",
              "      height: 32px;\n",
              "      padding: 0 0 0 0;\n",
              "      width: 32px;\n",
              "    }\n",
              "\n",
              "    .colab-df-convert:hover {\n",
              "      background-color: #E2EBFA;\n",
              "      box-shadow: 0px 1px 2px rgba(60, 64, 67, 0.3), 0px 1px 3px 1px rgba(60, 64, 67, 0.15);\n",
              "      fill: #174EA6;\n",
              "    }\n",
              "\n",
              "    [theme=dark] .colab-df-convert {\n",
              "      background-color: #3B4455;\n",
              "      fill: #D2E3FC;\n",
              "    }\n",
              "\n",
              "    [theme=dark] .colab-df-convert:hover {\n",
              "      background-color: #434B5C;\n",
              "      box-shadow: 0px 1px 3px 1px rgba(0, 0, 0, 0.15);\n",
              "      filter: drop-shadow(0px 1px 2px rgba(0, 0, 0, 0.3));\n",
              "      fill: #FFFFFF;\n",
              "    }\n",
              "  </style>\n",
              "\n",
              "      <script>\n",
              "        const buttonEl =\n",
              "          document.querySelector('#df-9e0727b5-c9b6-47c2-98c6-f9ec19ba7f1d button.colab-df-convert');\n",
              "        buttonEl.style.display =\n",
              "          google.colab.kernel.accessAllowed ? 'block' : 'none';\n",
              "\n",
              "        async function convertToInteractive(key) {\n",
              "          const element = document.querySelector('#df-9e0727b5-c9b6-47c2-98c6-f9ec19ba7f1d');\n",
              "          const dataTable =\n",
              "            await google.colab.kernel.invokeFunction('convertToInteractive',\n",
              "                                                     [key], {});\n",
              "          if (!dataTable) return;\n",
              "\n",
              "          const docLinkHtml = 'Like what you see? Visit the ' +\n",
              "            '<a target=\"_blank\" href=https://colab.research.google.com/notebooks/data_table.ipynb>data table notebook</a>'\n",
              "            + ' to learn more about interactive tables.';\n",
              "          element.innerHTML = '';\n",
              "          dataTable['output_type'] = 'display_data';\n",
              "          await google.colab.output.renderOutput(dataTable, element);\n",
              "          const docLink = document.createElement('div');\n",
              "          docLink.innerHTML = docLinkHtml;\n",
              "          element.appendChild(docLink);\n",
              "        }\n",
              "      </script>\n",
              "    </div>\n",
              "  </div>\n",
              "  "
            ]
          },
          "metadata": {},
          "execution_count": 40
        }
      ]
    },
    {
      "cell_type": "markdown",
      "source": [
        "**3.2.3 Tail Number**\n",
        "\n",
        "A particular plane identified by its TailNum could have an effect on the Delay. Thus, we deem this feature to be useful for the model. However, it has a high number of categories and thus is highly cardinal.\n",
        "\n",
        "Quantile binning and One-Hot Encoding will not work for this column. Thus we will try to hardcode the mean delay on the training dataset."
      ],
      "metadata": {
        "id": "KmEZuW5pU3HD"
      }
    },
    {
      "cell_type": "code",
      "source": [
        "X_train_temp['TailNum'].value_counts()"
      ],
      "metadata": {
        "colab": {
          "base_uri": "https://localhost:8080/"
        },
        "id": "tkfGDclSUvhi",
        "outputId": "bb24279c-5804-4d38-f86d-195c8a24a77e"
      },
      "execution_count": null,
      "outputs": [
        {
          "output_type": "execute_result",
          "data": {
            "text/plain": [
              "N325SW    696\n",
              "N676SW    688\n",
              "N313SW    664\n",
              "N641SW    663\n",
              "N658SW    659\n",
              "         ... \n",
              "N78008      1\n",
              "N702DN      1\n",
              "N194UA      1\n",
              "N809NW      1\n",
              "N76010      1\n",
              "Name: TailNum, Length: 5357, dtype: int64"
            ]
          },
          "metadata": {},
          "execution_count": 41
        }
      ]
    },
    {
      "cell_type": "code",
      "source": [
        "tailnum_avg_time = df_train_idx.groupby('TailNum')['DepDelay'].mean().rename('tailnum_mean_DepDelay')\n",
        "tailnum_avg_time.to_csv('/content/tailnum_avg_time.csv')"
      ],
      "metadata": {
        "id": "WEniituwVDM8"
      },
      "execution_count": null,
      "outputs": []
    },
    {
      "cell_type": "code",
      "source": [
        "tailnum_avg_time = pd.read_csv('/content/tailnum_avg_time.csv')\n",
        "tailnum_avg_time"
      ],
      "metadata": {
        "colab": {
          "base_uri": "https://localhost:8080/",
          "height": 423
        },
        "id": "OrUIvUQNVFvj",
        "outputId": "444d0034-7b63-48ce-ab05-3fc479051a5a"
      },
      "execution_count": null,
      "outputs": [
        {
          "output_type": "execute_result",
          "data": {
            "text/plain": [
              "     TailNum  tailnum_mean_DepDelay\n",
              "0     80009E              46.865169\n",
              "1     80019E              39.776000\n",
              "2     80059E              47.345588\n",
              "3     80129E              44.793706\n",
              "4     80139E              40.234201\n",
              "...      ...                    ...\n",
              "5352  N998AT              44.783290\n",
              "5353  N998DL              38.442231\n",
              "5354  N999CA              57.754717\n",
              "5355  N999DN              45.661922\n",
              "5356  NHZOAL              18.000000\n",
              "\n",
              "[5357 rows x 2 columns]"
            ],
            "text/html": [
              "\n",
              "  <div id=\"df-6faeecd5-fd6b-4bce-9cbf-578461eae85e\">\n",
              "    <div class=\"colab-df-container\">\n",
              "      <div>\n",
              "<style scoped>\n",
              "    .dataframe tbody tr th:only-of-type {\n",
              "        vertical-align: middle;\n",
              "    }\n",
              "\n",
              "    .dataframe tbody tr th {\n",
              "        vertical-align: top;\n",
              "    }\n",
              "\n",
              "    .dataframe thead th {\n",
              "        text-align: right;\n",
              "    }\n",
              "</style>\n",
              "<table border=\"1\" class=\"dataframe\">\n",
              "  <thead>\n",
              "    <tr style=\"text-align: right;\">\n",
              "      <th></th>\n",
              "      <th>TailNum</th>\n",
              "      <th>tailnum_mean_DepDelay</th>\n",
              "    </tr>\n",
              "  </thead>\n",
              "  <tbody>\n",
              "    <tr>\n",
              "      <th>0</th>\n",
              "      <td>80009E</td>\n",
              "      <td>46.865169</td>\n",
              "    </tr>\n",
              "    <tr>\n",
              "      <th>1</th>\n",
              "      <td>80019E</td>\n",
              "      <td>39.776000</td>\n",
              "    </tr>\n",
              "    <tr>\n",
              "      <th>2</th>\n",
              "      <td>80059E</td>\n",
              "      <td>47.345588</td>\n",
              "    </tr>\n",
              "    <tr>\n",
              "      <th>3</th>\n",
              "      <td>80129E</td>\n",
              "      <td>44.793706</td>\n",
              "    </tr>\n",
              "    <tr>\n",
              "      <th>4</th>\n",
              "      <td>80139E</td>\n",
              "      <td>40.234201</td>\n",
              "    </tr>\n",
              "    <tr>\n",
              "      <th>...</th>\n",
              "      <td>...</td>\n",
              "      <td>...</td>\n",
              "    </tr>\n",
              "    <tr>\n",
              "      <th>5352</th>\n",
              "      <td>N998AT</td>\n",
              "      <td>44.783290</td>\n",
              "    </tr>\n",
              "    <tr>\n",
              "      <th>5353</th>\n",
              "      <td>N998DL</td>\n",
              "      <td>38.442231</td>\n",
              "    </tr>\n",
              "    <tr>\n",
              "      <th>5354</th>\n",
              "      <td>N999CA</td>\n",
              "      <td>57.754717</td>\n",
              "    </tr>\n",
              "    <tr>\n",
              "      <th>5355</th>\n",
              "      <td>N999DN</td>\n",
              "      <td>45.661922</td>\n",
              "    </tr>\n",
              "    <tr>\n",
              "      <th>5356</th>\n",
              "      <td>NHZOAL</td>\n",
              "      <td>18.000000</td>\n",
              "    </tr>\n",
              "  </tbody>\n",
              "</table>\n",
              "<p>5357 rows × 2 columns</p>\n",
              "</div>\n",
              "      <button class=\"colab-df-convert\" onclick=\"convertToInteractive('df-6faeecd5-fd6b-4bce-9cbf-578461eae85e')\"\n",
              "              title=\"Convert this dataframe to an interactive table.\"\n",
              "              style=\"display:none;\">\n",
              "        \n",
              "  <svg xmlns=\"http://www.w3.org/2000/svg\" height=\"24px\"viewBox=\"0 0 24 24\"\n",
              "       width=\"24px\">\n",
              "    <path d=\"M0 0h24v24H0V0z\" fill=\"none\"/>\n",
              "    <path d=\"M18.56 5.44l.94 2.06.94-2.06 2.06-.94-2.06-.94-.94-2.06-.94 2.06-2.06.94zm-11 1L8.5 8.5l.94-2.06 2.06-.94-2.06-.94L8.5 2.5l-.94 2.06-2.06.94zm10 10l.94 2.06.94-2.06 2.06-.94-2.06-.94-.94-2.06-.94 2.06-2.06.94z\"/><path d=\"M17.41 7.96l-1.37-1.37c-.4-.4-.92-.59-1.43-.59-.52 0-1.04.2-1.43.59L10.3 9.45l-7.72 7.72c-.78.78-.78 2.05 0 2.83L4 21.41c.39.39.9.59 1.41.59.51 0 1.02-.2 1.41-.59l7.78-7.78 2.81-2.81c.8-.78.8-2.07 0-2.86zM5.41 20L4 18.59l7.72-7.72 1.47 1.35L5.41 20z\"/>\n",
              "  </svg>\n",
              "      </button>\n",
              "      \n",
              "  <style>\n",
              "    .colab-df-container {\n",
              "      display:flex;\n",
              "      flex-wrap:wrap;\n",
              "      gap: 12px;\n",
              "    }\n",
              "\n",
              "    .colab-df-convert {\n",
              "      background-color: #E8F0FE;\n",
              "      border: none;\n",
              "      border-radius: 50%;\n",
              "      cursor: pointer;\n",
              "      display: none;\n",
              "      fill: #1967D2;\n",
              "      height: 32px;\n",
              "      padding: 0 0 0 0;\n",
              "      width: 32px;\n",
              "    }\n",
              "\n",
              "    .colab-df-convert:hover {\n",
              "      background-color: #E2EBFA;\n",
              "      box-shadow: 0px 1px 2px rgba(60, 64, 67, 0.3), 0px 1px 3px 1px rgba(60, 64, 67, 0.15);\n",
              "      fill: #174EA6;\n",
              "    }\n",
              "\n",
              "    [theme=dark] .colab-df-convert {\n",
              "      background-color: #3B4455;\n",
              "      fill: #D2E3FC;\n",
              "    }\n",
              "\n",
              "    [theme=dark] .colab-df-convert:hover {\n",
              "      background-color: #434B5C;\n",
              "      box-shadow: 0px 1px 3px 1px rgba(0, 0, 0, 0.15);\n",
              "      filter: drop-shadow(0px 1px 2px rgba(0, 0, 0, 0.3));\n",
              "      fill: #FFFFFF;\n",
              "    }\n",
              "  </style>\n",
              "\n",
              "      <script>\n",
              "        const buttonEl =\n",
              "          document.querySelector('#df-6faeecd5-fd6b-4bce-9cbf-578461eae85e button.colab-df-convert');\n",
              "        buttonEl.style.display =\n",
              "          google.colab.kernel.accessAllowed ? 'block' : 'none';\n",
              "\n",
              "        async function convertToInteractive(key) {\n",
              "          const element = document.querySelector('#df-6faeecd5-fd6b-4bce-9cbf-578461eae85e');\n",
              "          const dataTable =\n",
              "            await google.colab.kernel.invokeFunction('convertToInteractive',\n",
              "                                                     [key], {});\n",
              "          if (!dataTable) return;\n",
              "\n",
              "          const docLinkHtml = 'Like what you see? Visit the ' +\n",
              "            '<a target=\"_blank\" href=https://colab.research.google.com/notebooks/data_table.ipynb>data table notebook</a>'\n",
              "            + ' to learn more about interactive tables.';\n",
              "          element.innerHTML = '';\n",
              "          dataTable['output_type'] = 'display_data';\n",
              "          await google.colab.output.renderOutput(dataTable, element);\n",
              "          const docLink = document.createElement('div');\n",
              "          docLink.innerHTML = docLinkHtml;\n",
              "          element.appendChild(docLink);\n",
              "        }\n",
              "      </script>\n",
              "    </div>\n",
              "  </div>\n",
              "  "
            ]
          },
          "metadata": {},
          "execution_count": 43
        }
      ]
    },
    {
      "cell_type": "code",
      "source": [
        "def add_mean_column(df, file_path, col_name):\n",
        "    avg_time_df = pd.read_csv(file_path)\n",
        "    df = df.merge(avg_time_df, on=col_name, how='left')\n",
        "    return df"
      ],
      "metadata": {
        "id": "WC-ZgMNuVH_n"
      },
      "execution_count": null,
      "outputs": []
    },
    {
      "cell_type": "markdown",
      "source": [
        "**3.3 Feature Engineering**"
      ],
      "metadata": {
        "id": "bfp_r2hHVQM7"
      }
    },
    {
      "cell_type": "code",
      "source": [
        "def split_hour(num_t):\n",
        "    # this time is given as hhmm, thus for any length lesser than 3 digits,\n",
        "    # we will assume it is during the midnight hour\n",
        "    s_time = str(num_t)\n",
        "    if len(s_time) > 2:\n",
        "        s_min = s_time[-2:]\n",
        "        s_hour = s_time.replace(s_min, '')\n",
        "        if s_hour == '':\n",
        "            s_hour = s_min\n",
        "    else:\n",
        "        s_hour = s_time\n",
        "    return float(s_hour)\n",
        "\n",
        "def split_min(num_t):\n",
        "    s_time = str(num_t)\n",
        "    s_min = s_time[-2:]\n",
        "    return float(s_min)\n",
        "\n",
        "\n",
        "def process_features(df):\n",
        "    df = df.copy()\n",
        "    # Split time columns into hour and minute\n",
        "    df['CRSDepHour'] = df['CRSDepTime'].apply(lambda x: split_hour(x))\n",
        "    df['CRSDepMin'] = df['CRSDepTime'].apply(lambda x: split_min(x))\n",
        "\n",
        "    df['CRSArrHour'] = df['CRSArrTime'].apply(lambda x: split_hour(x))\n",
        "    df['CRSArrMin'] = df['CRSArrTime'].apply(lambda x: split_min(x))\n",
        "\n",
        "    # Drop time columns\n",
        "    df.drop(['CRSDepTime', 'CRSArrTime'], axis=1, inplace=True)\n",
        "\n",
        "    # Transform days, time in sin & cos\n",
        "    df['days_in_month'] = df['Month'].map(days_in_month)\n",
        "\n",
        "    df['Month_sin'] = np.sin(df['Month'] * (2 * np.pi / 12))\n",
        "    df['Month_cos'] = np.cos(df['Month'] * (2 * np.pi / 12))\n",
        "\n",
        "    df['DayofMonth_sin'] = np.sin(df['DayofMonth'] * (2 * np.pi / df['days_in_month']))\n",
        "    df['DayofMonth_cos'] = np.cos(df['DayofMonth'] * (2 * np.pi / df['days_in_month']))\n",
        "\n",
        "    df['DayOfWeek_sin'] = np.sin(df['DayOfWeek'] * (2 * np.pi / 7))\n",
        "    df['DayOfWeek_cos'] = np.cos(df['DayOfWeek'] * (2 * np.pi / 7))\n",
        "\n",
        "    df['CRSDepHour_sin'] = np.sin(df['CRSDepHour'] * (2 * np.pi / 24))\n",
        "    df['CRSDepHour_cos'] = np.cos(df['CRSDepHour'] * (2 * np.pi / 24))\n",
        "\n",
        "    df['CRSDepMin_sin'] = np.sin(df['CRSDepMin'] * (2 * np.pi / 60))\n",
        "    df['CRSDepMin_cos'] = np.cos(df['CRSDepMin'] * (2 * np.pi / 60))\n",
        "\n",
        "    df['CRSArrHour_sin'] = np.sin(df['CRSArrHour'] * (2 * np.pi / 24))\n",
        "    df['CRSArrHour_cos'] = np.cos(df['CRSArrHour'] * (2 * np.pi / 24))\n",
        "\n",
        "    df['CRSArrMin_sin'] = np.sin(df['CRSArrMin'] * (2 * np.pi / 60))\n",
        "    df['CRSArrMin_cos'] = np.cos(df['CRSArrMin'] * (2 * np.pi / 60))\n",
        "\n",
        "    # Create is_weekend col\n",
        "    df['is_weekend'] = df['DayOfWeek'].isin([1, 7]).astype(int)\n",
        "\n",
        "    # Drop day and time columns\n",
        "    df.drop(['Month', 'DayofMonth', 'DayOfWeek', 'CRSDepHour', 'CRSDepMin', 'CRSArrHour', 'CRSArrMin', 'days_in_month'], axis=1, inplace=True)\n",
        "\n",
        "    # Log Distance column as there is a high std dev\n",
        "    df['log_Distance'] = np.log(df['Distance'])\n",
        "\n",
        "    # Bin and OHE Carriers\n",
        "    df['carrier_popularity'] = df['UniqueCarrier'].apply(lambda x: label_carrier_train(x))\n",
        "    df = pd.get_dummies(df, prefix=['carrier'], columns=['carrier_popularity'])\n",
        "\n",
        "    # Bin and OHE Origin Airport\n",
        "    df = bin_airport(df)\n",
        "    df = pd.get_dummies(df, prefix=['Origin'], columns=['Origin_airport_type'])\n",
        "\n",
        "        # Bin and OHE Dest Airport\n",
        "    df = bin_airport(df, left_col='Dest')\n",
        "    df = pd.get_dummies(df, prefix=['Dest'], columns=['Dest_airport_type'])\n",
        "\n",
        "    # Get avg delay\n",
        "    df = add_mean_column(df, '/content/origin_avg_time.csv', 'Origin')\n",
        "    df = add_mean_column(df, '/content/dest_avg_time.csv', 'Dest')\n",
        "    df = add_mean_column(df, '/content/tailnum_avg_time.csv', 'TailNum')\n",
        "\n",
        "    # Drop original columns\n",
        "    df.drop(['Distance', 'UniqueCarrier', 'Origin', 'Dest', 'TailNum'], axis=1, inplace=True)  #, 'TailNum'\n",
        "\n",
        "    # Impute nulls with 0\n",
        "    for col in ['TaxiIn', 'CarrierDelay', 'WeatherDelay', 'NASDelay', 'SecurityDelay', 'LateAircraftDelay', 'dest_mean_ArrDelay', 'tailnum_mean_DepDelay']:\n",
        "        df[col] = df[col].fillna(0)\n",
        "\n",
        "    return df\n",
        "\n",
        "X_pr = process_features(X_train.copy())\n",
        "X_pr.head(5)"
      ],
      "metadata": {
        "colab": {
          "base_uri": "https://localhost:8080/",
          "height": 357
        },
        "id": "8--nr6hXVLzy",
        "outputId": "eeaf9864-d3e2-4a9d-bfe5-02f6a2135d1c"
      },
      "execution_count": null,
      "outputs": [
        {
          "output_type": "execute_result",
          "data": {
            "text/plain": [
              "   FlightNum  CRSElapsedTime  TaxiIn  CarrierDelay  WeatherDelay  NASDelay  \\\n",
              "0       1127           127.0     8.0           0.0           0.0       0.0   \n",
              "1       1046           114.0     4.0          30.0           0.0       0.0   \n",
              "2       2162           245.0     8.0           0.0           0.0       0.0   \n",
              "3       3118           138.0     4.0           9.0           0.0       0.0   \n",
              "4         94           296.0     6.0           0.0           0.0       0.0   \n",
              "\n",
              "   SecurityDelay  LateAircraftDelay     Month_sin  Month_cos  DayofMonth_sin  \\\n",
              "0            0.0                0.0 -8.660254e-01   0.500000       -0.848644   \n",
              "1            0.0                0.0 -5.000000e-01  -0.866025        0.651372   \n",
              "2            0.0                0.0  1.224647e-16  -1.000000        0.587785   \n",
              "3            0.0               15.0 -8.660254e-01  -0.500000       -0.201299   \n",
              "4            0.0               46.0 -5.000000e-01  -0.866025       -0.724793   \n",
              "\n",
              "   DayofMonth_cos  DayOfWeek_sin  DayOfWeek_cos  CRSDepHour_sin  \\\n",
              "0        0.528964  -2.449294e-16       1.000000    1.000000e+00   \n",
              "1       -0.758758  -7.818315e-01       0.623490   -2.588190e-01   \n",
              "2       -0.809017  -4.338837e-01      -0.900969    1.224647e-16   \n",
              "3        0.979530  -7.818315e-01       0.623490   -5.000000e-01   \n",
              "4        0.688967  -2.449294e-16       1.000000   -5.000000e-01   \n",
              "\n",
              "   CRSDepHour_cos  CRSDepMin_sin  CRSDepMin_cos  CRSArrHour_sin  \\\n",
              "0    6.123234e-17      -0.309017       0.951057        0.866025   \n",
              "1   -9.659258e-01       0.809017      -0.587785       -0.866025   \n",
              "2   -1.000000e+00       0.500000      -0.866025       -1.000000   \n",
              "3   -8.660254e-01       0.207912       0.978148       -0.866025   \n",
              "4    8.660254e-01       0.866025      -0.500000        1.000000   \n",
              "\n",
              "   CRSArrHour_cos  CRSArrMin_sin  CRSArrMin_cos  is_weekend  log_Distance  \\\n",
              "0   -5.000000e-01   4.067366e-01   9.135455e-01           1      6.432940   \n",
              "1   -5.000000e-01   1.000000e+00   6.123234e-17           0      6.617403   \n",
              "2   -1.836970e-16   1.224647e-16  -1.000000e+00           0      7.519692   \n",
              "3   -5.000000e-01   8.660254e-01  -5.000000e-01           0      6.442540   \n",
              "4    6.123234e-17   9.945219e-01  -1.045285e-01           1      7.769379   \n",
              "\n",
              "   carrier_average  carrier_popular  carrier_unpopular  Origin_large_airport  \\\n",
              "0                0                1                  0                     1   \n",
              "1                1                0                  0                     1   \n",
              "2                0                1                  0                     1   \n",
              "3                1                0                  0                     1   \n",
              "4                0                1                  0                     0   \n",
              "\n",
              "   Origin_medium_airport  Origin_small_airport  Dest_large_airport  \\\n",
              "0                      0                     0                   1   \n",
              "1                      0                     0                   1   \n",
              "2                      0                     0                   1   \n",
              "3                      0                     0                   1   \n",
              "4                      1                     0                   1   \n",
              "\n",
              "   Dest_medium_airport  Dest_small_airport  origin_mean_DepDelay  \\\n",
              "0                    0                   0             39.000372   \n",
              "1                    0                   0             40.192641   \n",
              "2                    0                   0             31.798981   \n",
              "3                    0                   0             50.502525   \n",
              "4                    0                   0             40.431193   \n",
              "\n",
              "   dest_mean_ArrDelay  tailnum_mean_DepDelay  \n",
              "0           59.869328              56.026786  \n",
              "1           46.012529              33.616352  \n",
              "2           31.876922              32.103448  \n",
              "3           44.139284              50.735465  \n",
              "4           49.765064              45.367925  "
            ],
            "text/html": [
              "\n",
              "  <div id=\"df-aaa77ae8-832b-49ca-a6a8-45921a4b5a3b\">\n",
              "    <div class=\"colab-df-container\">\n",
              "      <div>\n",
              "<style scoped>\n",
              "    .dataframe tbody tr th:only-of-type {\n",
              "        vertical-align: middle;\n",
              "    }\n",
              "\n",
              "    .dataframe tbody tr th {\n",
              "        vertical-align: top;\n",
              "    }\n",
              "\n",
              "    .dataframe thead th {\n",
              "        text-align: right;\n",
              "    }\n",
              "</style>\n",
              "<table border=\"1\" class=\"dataframe\">\n",
              "  <thead>\n",
              "    <tr style=\"text-align: right;\">\n",
              "      <th></th>\n",
              "      <th>FlightNum</th>\n",
              "      <th>CRSElapsedTime</th>\n",
              "      <th>TaxiIn</th>\n",
              "      <th>CarrierDelay</th>\n",
              "      <th>WeatherDelay</th>\n",
              "      <th>NASDelay</th>\n",
              "      <th>SecurityDelay</th>\n",
              "      <th>LateAircraftDelay</th>\n",
              "      <th>Month_sin</th>\n",
              "      <th>Month_cos</th>\n",
              "      <th>DayofMonth_sin</th>\n",
              "      <th>DayofMonth_cos</th>\n",
              "      <th>DayOfWeek_sin</th>\n",
              "      <th>DayOfWeek_cos</th>\n",
              "      <th>CRSDepHour_sin</th>\n",
              "      <th>CRSDepHour_cos</th>\n",
              "      <th>CRSDepMin_sin</th>\n",
              "      <th>CRSDepMin_cos</th>\n",
              "      <th>CRSArrHour_sin</th>\n",
              "      <th>CRSArrHour_cos</th>\n",
              "      <th>CRSArrMin_sin</th>\n",
              "      <th>CRSArrMin_cos</th>\n",
              "      <th>is_weekend</th>\n",
              "      <th>log_Distance</th>\n",
              "      <th>carrier_average</th>\n",
              "      <th>carrier_popular</th>\n",
              "      <th>carrier_unpopular</th>\n",
              "      <th>Origin_large_airport</th>\n",
              "      <th>Origin_medium_airport</th>\n",
              "      <th>Origin_small_airport</th>\n",
              "      <th>Dest_large_airport</th>\n",
              "      <th>Dest_medium_airport</th>\n",
              "      <th>Dest_small_airport</th>\n",
              "      <th>origin_mean_DepDelay</th>\n",
              "      <th>dest_mean_ArrDelay</th>\n",
              "      <th>tailnum_mean_DepDelay</th>\n",
              "    </tr>\n",
              "  </thead>\n",
              "  <tbody>\n",
              "    <tr>\n",
              "      <th>0</th>\n",
              "      <td>1127</td>\n",
              "      <td>127.0</td>\n",
              "      <td>8.0</td>\n",
              "      <td>0.0</td>\n",
              "      <td>0.0</td>\n",
              "      <td>0.0</td>\n",
              "      <td>0.0</td>\n",
              "      <td>0.0</td>\n",
              "      <td>-8.660254e-01</td>\n",
              "      <td>0.500000</td>\n",
              "      <td>-0.848644</td>\n",
              "      <td>0.528964</td>\n",
              "      <td>-2.449294e-16</td>\n",
              "      <td>1.000000</td>\n",
              "      <td>1.000000e+00</td>\n",
              "      <td>6.123234e-17</td>\n",
              "      <td>-0.309017</td>\n",
              "      <td>0.951057</td>\n",
              "      <td>0.866025</td>\n",
              "      <td>-5.000000e-01</td>\n",
              "      <td>4.067366e-01</td>\n",
              "      <td>9.135455e-01</td>\n",
              "      <td>1</td>\n",
              "      <td>6.432940</td>\n",
              "      <td>0</td>\n",
              "      <td>1</td>\n",
              "      <td>0</td>\n",
              "      <td>1</td>\n",
              "      <td>0</td>\n",
              "      <td>0</td>\n",
              "      <td>1</td>\n",
              "      <td>0</td>\n",
              "      <td>0</td>\n",
              "      <td>39.000372</td>\n",
              "      <td>59.869328</td>\n",
              "      <td>56.026786</td>\n",
              "    </tr>\n",
              "    <tr>\n",
              "      <th>1</th>\n",
              "      <td>1046</td>\n",
              "      <td>114.0</td>\n",
              "      <td>4.0</td>\n",
              "      <td>30.0</td>\n",
              "      <td>0.0</td>\n",
              "      <td>0.0</td>\n",
              "      <td>0.0</td>\n",
              "      <td>0.0</td>\n",
              "      <td>-5.000000e-01</td>\n",
              "      <td>-0.866025</td>\n",
              "      <td>0.651372</td>\n",
              "      <td>-0.758758</td>\n",
              "      <td>-7.818315e-01</td>\n",
              "      <td>0.623490</td>\n",
              "      <td>-2.588190e-01</td>\n",
              "      <td>-9.659258e-01</td>\n",
              "      <td>0.809017</td>\n",
              "      <td>-0.587785</td>\n",
              "      <td>-0.866025</td>\n",
              "      <td>-5.000000e-01</td>\n",
              "      <td>1.000000e+00</td>\n",
              "      <td>6.123234e-17</td>\n",
              "      <td>0</td>\n",
              "      <td>6.617403</td>\n",
              "      <td>1</td>\n",
              "      <td>0</td>\n",
              "      <td>0</td>\n",
              "      <td>1</td>\n",
              "      <td>0</td>\n",
              "      <td>0</td>\n",
              "      <td>1</td>\n",
              "      <td>0</td>\n",
              "      <td>0</td>\n",
              "      <td>40.192641</td>\n",
              "      <td>46.012529</td>\n",
              "      <td>33.616352</td>\n",
              "    </tr>\n",
              "    <tr>\n",
              "      <th>2</th>\n",
              "      <td>2162</td>\n",
              "      <td>245.0</td>\n",
              "      <td>8.0</td>\n",
              "      <td>0.0</td>\n",
              "      <td>0.0</td>\n",
              "      <td>0.0</td>\n",
              "      <td>0.0</td>\n",
              "      <td>0.0</td>\n",
              "      <td>1.224647e-16</td>\n",
              "      <td>-1.000000</td>\n",
              "      <td>0.587785</td>\n",
              "      <td>-0.809017</td>\n",
              "      <td>-4.338837e-01</td>\n",
              "      <td>-0.900969</td>\n",
              "      <td>1.224647e-16</td>\n",
              "      <td>-1.000000e+00</td>\n",
              "      <td>0.500000</td>\n",
              "      <td>-0.866025</td>\n",
              "      <td>-1.000000</td>\n",
              "      <td>-1.836970e-16</td>\n",
              "      <td>1.224647e-16</td>\n",
              "      <td>-1.000000e+00</td>\n",
              "      <td>0</td>\n",
              "      <td>7.519692</td>\n",
              "      <td>0</td>\n",
              "      <td>1</td>\n",
              "      <td>0</td>\n",
              "      <td>1</td>\n",
              "      <td>0</td>\n",
              "      <td>0</td>\n",
              "      <td>1</td>\n",
              "      <td>0</td>\n",
              "      <td>0</td>\n",
              "      <td>31.798981</td>\n",
              "      <td>31.876922</td>\n",
              "      <td>32.103448</td>\n",
              "    </tr>\n",
              "    <tr>\n",
              "      <th>3</th>\n",
              "      <td>3118</td>\n",
              "      <td>138.0</td>\n",
              "      <td>4.0</td>\n",
              "      <td>9.0</td>\n",
              "      <td>0.0</td>\n",
              "      <td>0.0</td>\n",
              "      <td>0.0</td>\n",
              "      <td>15.0</td>\n",
              "      <td>-8.660254e-01</td>\n",
              "      <td>-0.500000</td>\n",
              "      <td>-0.201299</td>\n",
              "      <td>0.979530</td>\n",
              "      <td>-7.818315e-01</td>\n",
              "      <td>0.623490</td>\n",
              "      <td>-5.000000e-01</td>\n",
              "      <td>-8.660254e-01</td>\n",
              "      <td>0.207912</td>\n",
              "      <td>0.978148</td>\n",
              "      <td>-0.866025</td>\n",
              "      <td>-5.000000e-01</td>\n",
              "      <td>8.660254e-01</td>\n",
              "      <td>-5.000000e-01</td>\n",
              "      <td>0</td>\n",
              "      <td>6.442540</td>\n",
              "      <td>1</td>\n",
              "      <td>0</td>\n",
              "      <td>0</td>\n",
              "      <td>1</td>\n",
              "      <td>0</td>\n",
              "      <td>0</td>\n",
              "      <td>1</td>\n",
              "      <td>0</td>\n",
              "      <td>0</td>\n",
              "      <td>50.502525</td>\n",
              "      <td>44.139284</td>\n",
              "      <td>50.735465</td>\n",
              "    </tr>\n",
              "    <tr>\n",
              "      <th>4</th>\n",
              "      <td>94</td>\n",
              "      <td>296.0</td>\n",
              "      <td>6.0</td>\n",
              "      <td>0.0</td>\n",
              "      <td>0.0</td>\n",
              "      <td>0.0</td>\n",
              "      <td>0.0</td>\n",
              "      <td>46.0</td>\n",
              "      <td>-5.000000e-01</td>\n",
              "      <td>-0.866025</td>\n",
              "      <td>-0.724793</td>\n",
              "      <td>0.688967</td>\n",
              "      <td>-2.449294e-16</td>\n",
              "      <td>1.000000</td>\n",
              "      <td>-5.000000e-01</td>\n",
              "      <td>8.660254e-01</td>\n",
              "      <td>0.866025</td>\n",
              "      <td>-0.500000</td>\n",
              "      <td>1.000000</td>\n",
              "      <td>6.123234e-17</td>\n",
              "      <td>9.945219e-01</td>\n",
              "      <td>-1.045285e-01</td>\n",
              "      <td>1</td>\n",
              "      <td>7.769379</td>\n",
              "      <td>0</td>\n",
              "      <td>1</td>\n",
              "      <td>0</td>\n",
              "      <td>0</td>\n",
              "      <td>1</td>\n",
              "      <td>0</td>\n",
              "      <td>1</td>\n",
              "      <td>0</td>\n",
              "      <td>0</td>\n",
              "      <td>40.431193</td>\n",
              "      <td>49.765064</td>\n",
              "      <td>45.367925</td>\n",
              "    </tr>\n",
              "  </tbody>\n",
              "</table>\n",
              "</div>\n",
              "      <button class=\"colab-df-convert\" onclick=\"convertToInteractive('df-aaa77ae8-832b-49ca-a6a8-45921a4b5a3b')\"\n",
              "              title=\"Convert this dataframe to an interactive table.\"\n",
              "              style=\"display:none;\">\n",
              "        \n",
              "  <svg xmlns=\"http://www.w3.org/2000/svg\" height=\"24px\"viewBox=\"0 0 24 24\"\n",
              "       width=\"24px\">\n",
              "    <path d=\"M0 0h24v24H0V0z\" fill=\"none\"/>\n",
              "    <path d=\"M18.56 5.44l.94 2.06.94-2.06 2.06-.94-2.06-.94-.94-2.06-.94 2.06-2.06.94zm-11 1L8.5 8.5l.94-2.06 2.06-.94-2.06-.94L8.5 2.5l-.94 2.06-2.06.94zm10 10l.94 2.06.94-2.06 2.06-.94-2.06-.94-.94-2.06-.94 2.06-2.06.94z\"/><path d=\"M17.41 7.96l-1.37-1.37c-.4-.4-.92-.59-1.43-.59-.52 0-1.04.2-1.43.59L10.3 9.45l-7.72 7.72c-.78.78-.78 2.05 0 2.83L4 21.41c.39.39.9.59 1.41.59.51 0 1.02-.2 1.41-.59l7.78-7.78 2.81-2.81c.8-.78.8-2.07 0-2.86zM5.41 20L4 18.59l7.72-7.72 1.47 1.35L5.41 20z\"/>\n",
              "  </svg>\n",
              "      </button>\n",
              "      \n",
              "  <style>\n",
              "    .colab-df-container {\n",
              "      display:flex;\n",
              "      flex-wrap:wrap;\n",
              "      gap: 12px;\n",
              "    }\n",
              "\n",
              "    .colab-df-convert {\n",
              "      background-color: #E8F0FE;\n",
              "      border: none;\n",
              "      border-radius: 50%;\n",
              "      cursor: pointer;\n",
              "      display: none;\n",
              "      fill: #1967D2;\n",
              "      height: 32px;\n",
              "      padding: 0 0 0 0;\n",
              "      width: 32px;\n",
              "    }\n",
              "\n",
              "    .colab-df-convert:hover {\n",
              "      background-color: #E2EBFA;\n",
              "      box-shadow: 0px 1px 2px rgba(60, 64, 67, 0.3), 0px 1px 3px 1px rgba(60, 64, 67, 0.15);\n",
              "      fill: #174EA6;\n",
              "    }\n",
              "\n",
              "    [theme=dark] .colab-df-convert {\n",
              "      background-color: #3B4455;\n",
              "      fill: #D2E3FC;\n",
              "    }\n",
              "\n",
              "    [theme=dark] .colab-df-convert:hover {\n",
              "      background-color: #434B5C;\n",
              "      box-shadow: 0px 1px 3px 1px rgba(0, 0, 0, 0.15);\n",
              "      filter: drop-shadow(0px 1px 2px rgba(0, 0, 0, 0.3));\n",
              "      fill: #FFFFFF;\n",
              "    }\n",
              "  </style>\n",
              "\n",
              "      <script>\n",
              "        const buttonEl =\n",
              "          document.querySelector('#df-aaa77ae8-832b-49ca-a6a8-45921a4b5a3b button.colab-df-convert');\n",
              "        buttonEl.style.display =\n",
              "          google.colab.kernel.accessAllowed ? 'block' : 'none';\n",
              "\n",
              "        async function convertToInteractive(key) {\n",
              "          const element = document.querySelector('#df-aaa77ae8-832b-49ca-a6a8-45921a4b5a3b');\n",
              "          const dataTable =\n",
              "            await google.colab.kernel.invokeFunction('convertToInteractive',\n",
              "                                                     [key], {});\n",
              "          if (!dataTable) return;\n",
              "\n",
              "          const docLinkHtml = 'Like what you see? Visit the ' +\n",
              "            '<a target=\"_blank\" href=https://colab.research.google.com/notebooks/data_table.ipynb>data table notebook</a>'\n",
              "            + ' to learn more about interactive tables.';\n",
              "          element.innerHTML = '';\n",
              "          dataTable['output_type'] = 'display_data';\n",
              "          await google.colab.output.renderOutput(dataTable, element);\n",
              "          const docLink = document.createElement('div');\n",
              "          docLink.innerHTML = docLinkHtml;\n",
              "          element.appendChild(docLink);\n",
              "        }\n",
              "      </script>\n",
              "    </div>\n",
              "  </div>\n",
              "  "
            ]
          },
          "metadata": {},
          "execution_count": 45
        }
      ]
    },
    {
      "cell_type": "markdown",
      "source": [
        "**4. Modelling**"
      ],
      "metadata": {
        "id": "TQcIRr_yV4xv"
      }
    },
    {
      "cell_type": "code",
      "source": [
        "transform_features = FunctionTransformer(process_features)"
      ],
      "metadata": {
        "id": "-NiLrtnCV1xo"
      },
      "execution_count": null,
      "outputs": []
    },
    {
      "cell_type": "code",
      "source": [
        "from sklearn.ensemble import RandomForestClassifier\n",
        "models_dict = {\n",
        "    \"log_reg\": LogisticRegression(class_weight='balanced', random_state=123),\n",
        "    \"svm\": LinearSVC(class_weight='balanced', random_state=123),\n",
        "    \"dtc\": DecisionTreeClassifier(class_weight='balanced', random_state=123),\n",
        "    \"rfc\": RandomForestClassifier(class_weight='balanced', random_state=123),\n",
        "}"
      ],
      "metadata": {
        "id": "OJ0UJrvQWABJ"
      },
      "execution_count": null,
      "outputs": []
    },
    {
      "cell_type": "code",
      "source": [
        "from sklearn.base import clone\n",
        "def create_pipeline(classifier):\n",
        "    pipe = make_pipeline(\n",
        "        clone(transform_features),\n",
        "        MinMaxScaler(),\n",
        "        classifier\n",
        "    )\n",
        "    return pipe"
      ],
      "metadata": {
        "id": "2kUbsGiEWCY9"
      },
      "execution_count": null,
      "outputs": []
    },
    {
      "cell_type": "code",
      "source": [
        "from sklearn.metrics import ConfusionMatrixDisplay\n",
        "trained_pipes = {}\n",
        "for key, classifier in models_dict.items():\n",
        "    print(f\"Model: {classifier}\\n\")\n",
        "\n",
        "    pipe = create_pipeline(classifier)\n",
        "    # fit the pipeline on the transformed data\n",
        "    pipe.fit(X_train.copy(), y_train)\n",
        "\n",
        "    trained_pipes[key] = pipe\n",
        "\n",
        "    # make predictions\n",
        "    y_pred = pipe.predict(X_test.copy())\n",
        "\n",
        "        # evaluate pipeline\n",
        "    cv = StratifiedKFold(n_splits=3, shuffle=True, random_state=123)\n",
        "    cv_scores = cross_val_score(\n",
        "        pipe,\n",
        "        X_train.copy(),\n",
        "        y_train,\n",
        "        scoring='f1',\n",
        "        cv=cv,\n",
        "        n_jobs=-1\n",
        "    )\n",
        "    print(f\"Cross validated mean F1 Score = {round(np.mean(cv_scores), 3)}\")\n",
        "\n",
        "    print(f\"Balanced Accuracy on Test set: {round(balanced_accuracy_score(y_test, y_pred), 3)}\")\n",
        "    print(f\"F1 Score on Test set: {round(f1_score(y_test, y_pred), 3)}\\n\")\n",
        "\n",
        "    print(f\"Confusion Matrix:\")\n",
        "    cm = confusion_matrix(y_test, pipe.predict(X_test.copy()))\n",
        "    sns.heatmap(cm, annot=True, cmap=\"Blues\", fmt=\"d\", xticklabels=[0, 1], yticklabels=[0, 1])\n",
        "    plt.xlabel(\"Predicted Label\")\n",
        "    plt.ylabel(\"True Label\")\n",
        "    plt.title(\"Confusion Matrix\")\n",
        "    plt.show()\n",
        "\n",
        "    print(f\"\\nClassification report: \\n{classification_report(y_test, y_pred, labels=[1, 0])}\")\n",
        "    print(\"----------------------------------------------------------------\")"
      ],
      "metadata": {
        "colab": {
          "base_uri": "https://localhost:8080/",
          "height": 1000
        },
        "id": "wmqudmFbWWPB",
        "outputId": "0fd77c00-fe66-4671-e115-1f6205c21a19"
      },
      "execution_count": null,
      "outputs": [
        {
          "output_type": "stream",
          "name": "stdout",
          "text": [
            "Model: LogisticRegression(class_weight='balanced', random_state=123)\n",
            "\n",
            "Cross validated mean F1 Score = 0.857\n",
            "Balanced Accuracy on Test set: 0.867\n",
            "F1 Score on Test set: 0.846\n",
            "\n",
            "Confusion Matrix:\n"
          ]
        },
        {
          "output_type": "display_data",
          "data": {
            "text/plain": [
              "<Figure size 640x480 with 2 Axes>"
            ],
            "image/png": "[encoded data removed]"
          },
          "metadata": {}
        },
        {
          "output_type": "stream",
          "name": "stdout",
          "text": [
            "\n",
            "Classification report: \n",
            "              precision    recall  f1-score   support\n",
            "\n",
            "           1       0.85      0.84      0.85    244303\n",
            "           0       0.88      0.90      0.89    336663\n",
            "\n",
            "    accuracy                           0.87    580966\n",
            "   macro avg       0.87      0.87      0.87    580966\n",
            "weighted avg       0.87      0.87      0.87    580966\n",
            "\n",
            "----------------------------------------------------------------\n",
            "Model: LinearSVC(class_weight='balanced', random_state=123)\n",
            "\n",
            "Cross validated mean F1 Score = 0.885\n",
            "Balanced Accuracy on Test set: 0.901\n",
            "F1 Score on Test set: 0.885\n",
            "\n",
            "Confusion Matrix:\n"
          ]
        },
        {
          "output_type": "display_data",
          "data": {
            "text/plain": [
              "<Figure size 640x480 with 2 Axes>"
            ],
            "image/png": "[encoded data removed]"
          },
          "metadata": {}
        },
        {
          "output_type": "stream",
          "name": "stdout",
          "text": [
            "\n",
            "Classification report: \n",
            "              precision    recall  f1-score   support\n",
            "\n",
            "           1       0.88      0.89      0.89    244303\n",
            "           0       0.92      0.91      0.92    336663\n",
            "\n",
            "    accuracy                           0.90    580966\n",
            "   macro avg       0.90      0.90      0.90    580966\n",
            "weighted avg       0.90      0.90      0.90    580966\n",
            "\n",
            "----------------------------------------------------------------\n",
            "Model: DecisionTreeClassifier(class_weight='balanced', random_state=123)\n",
            "\n",
            "Cross validated mean F1 Score = 0.902\n",
            "Balanced Accuracy on Test set: 0.917\n",
            "F1 Score on Test set: 0.903\n",
            "\n",
            "Confusion Matrix:\n"
          ]
        },
        {
          "output_type": "display_data",
          "data": {
            "text/plain": [
              "<Figure size 640x480 with 2 Axes>"
            ],
            "image/png": "[encoded data removed]"
          },
          "metadata": {}
        },
        {
          "output_type": "stream",
          "name": "stdout",
          "text": [
            "\n",
            "Classification report: \n",
            "              precision    recall  f1-score   support\n",
            "\n",
            "           1       0.90      0.91      0.90    244303\n",
            "           0       0.93      0.93      0.93    336663\n",
            "\n",
            "    accuracy                           0.92    580966\n",
            "   macro avg       0.92      0.92      0.92    580966\n",
            "weighted avg       0.92      0.92      0.92    580966\n",
            "\n",
            "----------------------------------------------------------------\n",
            "Model: RandomForestClassifier(class_weight='balanced', random_state=123)\n",
            "\n",
            "Cross validated mean F1 Score = 0.93\n",
            "Balanced Accuracy on Test set: 0.939\n",
            "F1 Score on Test set: 0.932\n",
            "\n",
            "Confusion Matrix:\n"
          ]
        },
        {
          "output_type": "display_data",
          "data": {
            "text/plain": [
              "<Figure size 640x480 with 2 Axes>"
            ],
            "image/png": "[encoded data removed]"
          },
          "metadata": {}
        },
        {
          "output_type": "stream",
          "name": "stdout",
          "text": [
            "\n",
            "Classification report: \n",
            "              precision    recall  f1-score   support\n",
            "\n",
            "           1       0.96      0.91      0.93    244303\n",
            "           0       0.94      0.97      0.95    336663\n",
            "\n",
            "    accuracy                           0.94    580966\n",
            "   macro avg       0.95      0.94      0.94    580966\n",
            "weighted avg       0.94      0.94      0.94    580966\n",
            "\n",
            "----------------------------------------------------------------\n"
          ]
        }
      ]
    },
    {
      "cell_type": "markdown",
      "source": [
        "The meaning of each of the labels is as follows:\n",
        "\n",
        "0: a flight is not delayed\n",
        "\n",
        "1: a flight is delayed\n",
        "\n",
        "(Where a delay is defined as the actual departure time of a flight to be greater than 30 minutes from its scheduled departure time.)\n",
        "\n",
        "As the class = 1 is a minority class, and is the class we are interested to predict, we observe the evaluation scores for this class in particular.\n",
        "\n",
        "Exploring the cross validation scores among the trained classifiers, the Random Forest Classifier (RFC) has the highest score at 0.93.\n",
        "\n",
        "Based the test dataset, the RFC also has the best performance with the highest F1 score for the positive class. It also has the highest Balanced Accuracy on the test dataset."
      ],
      "metadata": {
        "id": "GeKVK0AfXHNZ"
      }
    },
    {
      "cell_type": "code",
      "source": [
        "trained_pipes"
      ],
      "metadata": {
        "colab": {
          "base_uri": "https://localhost:8080/"
        },
        "id": "PPGjjuOYWnr4",
        "outputId": "3b75f4ba-ea66-4bc2-a762-8057a2cf7457"
      },
      "execution_count": null,
      "outputs": [
        {
          "output_type": "execute_result",
          "data": {
            "text/plain": [
              "{'log_reg': Pipeline(steps=[('functiontransformer',\n",
              "                  FunctionTransformer(func=<function process_features at 0x7f5954e82b90>)),\n",
              "                 ('minmaxscaler', MinMaxScaler()),\n",
              "                 ('logisticregression',\n",
              "                  LogisticRegression(class_weight='balanced',\n",
              "                                     random_state=123))]),\n",
              " 'svm': Pipeline(steps=[('functiontransformer',\n",
              "                  FunctionTransformer(func=<function process_features at 0x7f5954e82b90>)),\n",
              "                 ('minmaxscaler', MinMaxScaler()),\n",
              "                 ('linearsvc',\n",
              "                  LinearSVC(class_weight='balanced', random_state=123))]),\n",
              " 'dtc': Pipeline(steps=[('functiontransformer',\n",
              "                  FunctionTransformer(func=<function process_features at 0x7f5954e82b90>)),\n",
              "                 ('minmaxscaler', MinMaxScaler()),\n",
              "                 ('decisiontreeclassifier',\n",
              "                  DecisionTreeClassifier(class_weight='balanced',\n",
              "                                         random_state=123))]),\n",
              " 'rfc': Pipeline(steps=[('functiontransformer',\n",
              "                  FunctionTransformer(func=<function process_features at 0x7f5954e82b90>)),\n",
              "                 ('minmaxscaler', MinMaxScaler()),\n",
              "                 ('randomforestclassifier',\n",
              "                  RandomForestClassifier(class_weight='balanced',\n",
              "                                         random_state=123))])}"
            ]
          },
          "metadata": {},
          "execution_count": 50
        }
      ]
    },
    {
      "cell_type": "markdown",
      "source": [
        "**5. Evaluation**\n",
        "\n",
        "**5.1 Precision-Recall Curve **\n",
        "\n",
        "Of the Random Forest Classifier with class = 1 (flight delayed)"
      ],
      "metadata": {
        "id": "x42dEDnHwnjH"
      }
    },
    {
      "cell_type": "code",
      "source": [
        "predictions = trained_pipes[\"rfc\"].predict_proba(X_test.copy())[:, 1]\n",
        "precision, recall, _ = precision_recall_curve(y_test, predictions)\n",
        "disp = PrecisionRecallDisplay(precision=precision, recall=recall)\n",
        "disp.plot()\n",
        "plt.show()"
      ],
      "metadata": {
        "colab": {
          "base_uri": "https://localhost:8080/",
          "height": 449
        },
        "id": "fkHQ-DMFv7il",
        "outputId": "0924ed9a-be76-45be-846c-1d4844ecefb2"
      },
      "execution_count": null,
      "outputs": [
        {
          "output_type": "display_data",
          "data": {
            "text/plain": [
              "<Figure size 640x480 with 1 Axes>"
            ],
            "image/png": "[encoded data removed]"
          },
          "metadata": {}
        }
      ]
    },
    {
      "cell_type": "markdown",
      "source": [
        "**5.2 ROC Curve**\n",
        "\n",
        "Of the Random Forest Classifier with class = 1 (flight delayed)"
      ],
      "metadata": {
        "id": "pmGtUjvMw3UQ"
      }
    },
    {
      "cell_type": "code",
      "source": [
        "RocCurveDisplay.from_estimator(trained_pipes[\"rfc\"], X_test.copy(), y_test, pos_label=1)"
      ],
      "metadata": {
        "colab": {
          "base_uri": "https://localhost:8080/",
          "height": 466
        },
        "id": "NnDfmDtHwBxW",
        "outputId": "ea141c3b-b908-43a0-8f0c-dd8c0a0b6a42"
      },
      "execution_count": null,
      "outputs": [
        {
          "output_type": "execute_result",
          "data": {
            "text/plain": [
              "<sklearn.metrics._plot.roc_curve.RocCurveDisplay at 0x7f59829ab610>"
            ]
          },
          "metadata": {},
          "execution_count": 52
        },
        {
          "output_type": "display_data",
          "data": {
            "text/plain": [
              "<Figure size 640x480 with 1 Axes>"
            ],
            "image/png": "[encoded data removed]"
          },
          "metadata": {}
        }
      ]
    },
    {
      "cell_type": "code",
      "source": [
        "round(roc_auc_score(y_test, predictions), 3)"
      ],
      "metadata": {
        "colab": {
          "base_uri": "https://localhost:8080/"
        },
        "id": "at0FrptaxDF_",
        "outputId": "9d5c19c2-2be4-408c-8663-2e3d75192d24"
      },
      "execution_count": null,
      "outputs": [
        {
          "output_type": "execute_result",
          "data": {
            "text/plain": [
              "0.985"
            ]
          },
          "metadata": {},
          "execution_count": 53
        }
      ]
    },
    {
      "cell_type": "markdown",
      "source": [
        "The curves above in 5.1 and 5.2 are in relation to the positive class (flight delays) of the random forest classifier. As False Negatives are highly costly in this context, we aim to increase recall. In these graphs, the Recall and TPR have the same meaning. Thus it can be viewed from the PR and ROC curves that the model performs well."
      ],
      "metadata": {
        "id": "in6oaQ_wxLf6"
      }
    }
  ]
}